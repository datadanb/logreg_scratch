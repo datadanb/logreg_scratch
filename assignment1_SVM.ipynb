{
 "cells": [
  {
   "cell_type": "code",
   "execution_count": 2,
   "metadata": {},
   "outputs": [],
   "source": [
    "# Importing Modules\n",
    "import getpass # For users\n",
    "import h5py    # For data files input\n",
    "import numpy as np\n",
    "import time"
   ]
  },
  {
   "cell_type": "code",
   "execution_count": 3,
   "metadata": {},
   "outputs": [],
   "source": [
    "# Setting up data input directory\n",
    "user = getpass.getuser()\n",
    "desktop_or_laptop = 'd' # 'l' # This is for Dan\n",
    "\n",
    "if user == 'scgst':\n",
    "    with h5py.File('images_training.h5','r') as H:\n",
    "        train_data = np.copy(H['data'])\n",
    "    with h5py.File('labels_training.h5','r') as H:\n",
    "        train_label = np.copy(H['label'])\n",
    "    with h5py.File('images_testing.h5','r') as H:\n",
    "        test_data = np.copy(H['data'])\n",
    "    with h5py.File('labels_testing_2000.h5','r') as H:\n",
    "        test_label = np.copy(H['label'])  \n",
    "        \n",
    "## This is for Dan\n",
    "# elif user == '': \n",
    "#     if desktop_or_laptop == 'l':\n",
    "#         ## Dan's Mac folder location - NEEDS CHANGING\n",
    "#         with h5py.File('../Project1/data/images_training.h5','r') as H:\n",
    "#             data = np.copy(H['data'])\n",
    "#         with h5py.File('../Project1/data/labels_training.h5','r') as H:\n",
    "#             label = np.copy(H['label'])\n",
    "#         with h5py.File('../Project1/data/images_testing.h5','r') as H:\n",
    "#             data_test = np.copy(H['data'])\n",
    "#         with h5py.File('../Project1/data/labels_testing_2000.h5','r') as H:\n",
    "#             label_test = np.copy(H['label'])    \n",
    "#     else:\n",
    "#         ## Dan's desktop folder location - NEEDS CHANGING\n",
    "#         with h5py.File('../../Input/images_training.h5','r') as H:\n",
    "#             data = np.copy(H['data'])\n",
    "#         with h5py.File('../../Input/labels_training.h5','r') as H:\n",
    "#             label = np.copy(H['label'])\n",
    "#         with h5py.File('../../Input/images_testing.h5','r') as H:\n",
    "#             data_test = np.copy(H['data'])\n",
    "#         with h5py.File('../../Input/labels_testing_2000.h5','r') as H:\n",
    "#             label_test = np.copy(H['label'])\n",
    "\n",
    "## This is for Ben\n",
    "# elif user == '':\n",
    "#     with h5py.File('images_training.h5','r') as H:\n",
    "#         data = np.copy(H['data'])\n",
    "#     with h5py.File('labels_training.h5','r') as H:\n",
    "#         label = np.copy(H['label'])\n",
    "#     with h5py.File('images_testing.h5','r') as H:\n",
    "#         data_test = np.copy(H['data'])\n",
    "#     with h5py.File('labels_testing_2000.h5','r') as H:\n",
    "#         label_test = np.copy(H['label'])  "
   ]
  },
  {
   "cell_type": "code",
   "execution_count": 4,
   "metadata": {},
   "outputs": [
    {
     "name": "stdout",
     "output_type": "stream",
     "text": [
      "(30000, 784)\n",
      "(30000,)\n",
      "(5000, 784)\n",
      "(2000,)\n"
     ]
    }
   ],
   "source": [
    "# Transforming the data inputs\n",
    "train_data = train_data.reshape(-1, 784)\n",
    "test_data = test_data.reshape(-1, 784)\n",
    "\n",
    "print(train_data.shape)\n",
    "print(train_label.shape)\n",
    "print(test_data.shape)\n",
    "print(test_label.shape)"
   ]
  },
  {
   "cell_type": "code",
   "execution_count": 6,
   "metadata": {},
   "outputs": [
    {
     "name": "stdout",
     "output_type": "stream",
     "text": [
      "(7000, 784)\n",
      "(3000, 784)\n",
      "(7000,)\n",
      "(3000,)\n"
     ]
    }
   ],
   "source": [
    "#### Split Train into train + validation\n",
    "\n",
    "# Not using sklearn pipeline\n",
    "from random import sample\n",
    "\n",
    "index_sample = np.array(sample([i for i in range(1, 30001, 1)], 10000))\n",
    "data_sample = train_data[index_sample]\n",
    "label_sample = train_label[index_sample]\n",
    "\n",
    "from sklearn.model_selection import train_test_split\n",
    "train_data, validate_data, train_label, validate_label = train_test_split(data_sample, label_sample, test_size = 0.3, random_state=109)\n",
    "\n",
    "print(train_data.shape)\n",
    "print(validate_data.shape)\n",
    "print(train_label.shape)\n",
    "print(validate_label.shape)\n",
    "\n"
   ]
  },
  {
   "cell_type": "code",
   "execution_count": 7,
   "metadata": {},
   "outputs": [],
   "source": [
    "# Function to reclassify label into only two classes, target class = 1 & everything else = 0\n",
    "# This is for one to all classification method for SVM\n",
    "def relabel_two_class(label, target_class):\n",
    "    label_two_class = np.zeros(len(label))\n",
    "    class_index = np.where(label == target_class)[0] # non_class_index = np.where(label != target_class)[0]\n",
    "    label_two_class[class_index] = 1\n",
    "\n",
    "    return label_two_class"
   ]
  },
  {
   "cell_type": "code",
   "execution_count": 9,
   "metadata": {
    "scrolled": true
   },
   "outputs": [
    {
     "name": "stderr",
     "output_type": "stream",
     "text": [
      "C:\\Users\\scgst\\Documents\\Anaconda\\lib\\site-packages\\sklearn\\svm\\base.py:196: FutureWarning: The default value of gamma will change from 'auto' to 'scale' in version 0.22 to account better for unscaled features. Set gamma explicitly to 'auto' or 'scale' to avoid this warning.\n",
      "  \"avoid this warning.\", FutureWarning)\n"
     ]
    },
    {
     "name": "stdout",
     "output_type": "stream",
     "text": [
      "62.56083035469055\n"
     ]
    }
   ],
   "source": [
    "# Fitting SVM model\n",
    "from sklearn import svm # SVC # \"Support vector classifier\"\n",
    "\n",
    "start_0 = time.time()\n",
    "\n",
    "# Classify 0\n",
    "label_class_0 = relabel_two_class(train_label, 0)\n",
    "model_0 = svm.SVC(kernel = 'rbf', C = 1E6) # kernel could also be linear, etc..\n",
    "model_0.fit(train_data, label_class_0)\n",
    "\n",
    "end_0 = time.time()\n",
    "print(end_0 - start_0)"
   ]
  },
  {
   "cell_type": "code",
   "execution_count": null,
   "metadata": {},
   "outputs": [],
   "source": [
    "# Prediction\n",
    "label_pred = model_0.predict(validate_data)"
   ]
  },
  {
   "cell_type": "code",
   "execution_count": 7,
   "metadata": {},
   "outputs": [
    {
     "data": {
      "text/plain": [
       "(588, 784)"
      ]
     },
     "execution_count": 7,
     "metadata": {},
     "output_type": "execute_result"
    }
   ],
   "source": [
    "# Evaluating performance\n",
    "from sklearn import metrics\n",
    "\n",
    "label_test = relabel_two_class(validate_label, 0)\n",
    "\n",
    "print(metrics.accuracy_score(label_test, label_pred))\n",
    "print(metrics.precision_score(label_test, label_pred))\n",
    "print(metrics.recall_score(label_test, label_pred))"
   ]
  }
 ],
 "metadata": {
  "kernelspec": {
   "display_name": "Python 3",
   "language": "python",
   "name": "python3"
  },
  "language_info": {
   "codemirror_mode": {
    "name": "ipython",
    "version": 3
   },
   "file_extension": ".py",
   "mimetype": "text/x-python",
   "name": "python",
   "nbconvert_exporter": "python",
   "pygments_lexer": "ipython3",
   "version": "3.7.1"
  }
 },
 "nbformat": 4,
 "nbformat_minor": 2
}
