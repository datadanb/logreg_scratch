{
 "cells": [
  {
   "cell_type": "markdown",
   "metadata": {},
   "source": [
    "# 1) Utility functions and general imports"
   ]
  },
  {
   "cell_type": "code",
   "execution_count": 1,
   "metadata": {
    "collapsed": false
   },
   "outputs": [],
   "source": [
    "import h5py\n",
    "import numpy as np\n",
    "import scipy as scpy\n",
    "from PIL import Image\n",
    "from matplotlib import pyplot as plt\n",
    "from matplotlib.pyplot import imshow\n",
    "from scipy import optimize as opt\n",
    "from sklearn import decomposition\n",
    "from sklearn import preprocessing\n",
    "\n",
    "from IPython.core.interactiveshell import InteractiveShell\n",
    "InteractiveShell.ast_node_interactivity = \"all\"\n",
    "\n",
    "%matplotlib inline\n"
   ]
  },
  {
   "cell_type": "markdown",
   "metadata": {},
   "source": [
    "# 2) Creating the functions used throughout the notebook"
   ]
  },
  {
   "cell_type": "code",
   "execution_count": 5,
   "metadata": {
    "collapsed": false
   },
   "outputs": [],
   "source": [
    "# Defining utility functions for reading images and data in\n",
    "def show_image(array, label):\n",
    "    im = Image.fromarray(array)\n",
    "    print(\"Item of label={}\".format(label))\n",
    "    return(imshow(im))\n",
    "    \n",
    "def compress_project(percent, data_to_compress):\n",
    "\n",
    "# Find the principal components that explain 99% of the data\n",
    "    pca = decomposition.PCA(percent)\n",
    "\n",
    "    #Run PCA on normalized image data\n",
    "    lower_dim_data = pca.fit_transform(data_to_compress)    \n",
    "    print('Shape of lower dimension image {}:'.format(lower_dim_data.shape))\n",
    "\n",
    "    #Project lower dimension data onto original features\n",
    "    approximation = pca.inverse_transform(lower_dim_data)\n",
    "    #approximation = pca.inverse_transform(lower_dim_data)\n",
    "        \n",
    "    #Reshape approximation and X_norm to 784*28*28 to display images\n",
    "    approximation_reshaped = approximation.reshape(-1,784)\n",
    "    print('Shape of reconstructed image {}:'.format(approximation_reshaped.shape))   \n",
    "    print( 'Is Original close to Resized? ', np.allclose(data_to_compress, approximation) )\n",
    "    \n",
    "    return (approximation, lower_dim_data) \n",
    "\n",
    "\n",
    "def shape_matrix_process(split_percent):\n",
    "    \n",
    "            \n",
    "        # Read the source files in\n",
    "        data, label, test_data, test_label = read_data_in(desktop_or_laptop='d')\n",
    "\n",
    "        # Creating a fair split of training and validation data for the \n",
    "        # training model to be trained on\n",
    "        indices = range(data.shape[0])\n",
    "        classes = np.unique(label)\n",
    "        \n",
    "        training_records = int(split_percent * data.shape[0])        \n",
    "        \n",
    "        # Get the records that are part of the indices declared above\n",
    "        train_data = data[:training_records]\n",
    "        validate_data = data[training_records:]        \n",
    "        \n",
    "        # Get the labels that are part of the indices declared above\n",
    "        label_train = label[:training_records]\n",
    "        label_validate = label[training_records:]        \n",
    "        \n",
    "        \n",
    "        get_class_data = np.vectorize(lambda arr: label==i )\n",
    "                        \n",
    "        for i in classes:\n",
    "            print(\"Pixel histogram prior to feature scaling : \".format(classes[i]))\n",
    "            print(i)\n",
    "        \n",
    "            d=[]\n",
    "            d = data[get_class_data(i)]\n",
    "            h = plt.hist(d[i].ravel())\n",
    "            plt.show()\n",
    "\n",
    "        X_train = train_data.reshape(-1, 784)\n",
    "        X_validate = validate_data.reshape(-1, 784)        \n",
    "        \n",
    "        y_train = np.ravel(label_train)\n",
    "        y_validate = np.ravel(label_validate)    \n",
    "\n",
    "                \n",
    "        ##########################################################################  \n",
    "        # MINMAXSCALER IS THE ONLY SCALER FOUND TO RELIABLY RESULT IN CONVERGENCE*\n",
    "        # HOWEVER NEEDS FURTHER TESTING =========================================#\n",
    "        ##########################################################################\n",
    "\n",
    "        # Fit & transform to our training data set\n",
    "        X_train = X_train.astype('float32')\n",
    "        X_train = normalise(X_train)\n",
    "        \n",
    "        \n",
    "        # Change our X_Validate data set to float 32 to \n",
    "        \n",
    "        X_validate = X_validate.astype('float32')\n",
    "        X_validate = normalise(X_validate)\n",
    "\n",
    "        print('Total number of records in X train: {}'.format(X_train.shape[0]))\n",
    "        print('Total number of records in y train: {}'.format(y_train.shape[0]))\n",
    "        print('Total number of features in X train: {}'.format(X_train.shape[1]))\n",
    "\n",
    "        print('Total number of records in X train (valdation set): {}'.format(X_validate.shape[0]))\n",
    "        print('Total number of features in X train (validation set): {}'.format(X_validate.shape[1]))\n",
    "        \n",
    "       \n",
    "        ########################\n",
    "        # Now to transform test#\n",
    "        ########################\n",
    "        \n",
    "        X_test = test_data[:2000]        \n",
    "        X_test = test_data.reshape(-1,784)\n",
    "        y_test = test_label [:2000]       \n",
    "        X_test = X_test.astype('float32')\n",
    "            \n",
    "        ##########################################################################  \n",
    "        # MINMAXSCALER IS THE ONLY SCALER FOUND TO RELIABLY RESULT IN CONVERGENCE*\n",
    "        # HOWEVER NEEDS FURTHER TESTING =========================================#\n",
    "        ##########################################################################\n",
    "\n",
    "   \n",
    "        X_test = normalise(X_test)\n",
    "                                          \n",
    "        print('Total number of records in X test: {}'.format(X_test.shape[0]))\n",
    "        print('Total number of features in X test: {}'.format(X_test.shape[1]))\n",
    "        \n",
    "        return(X_train,X_validate,X_test,y_train,y_validate,y_test)\n",
    "    \n",
    "    \n",
    "# Import the files in from python h5 format\n",
    "\n",
    "\n",
    "def read_data_in(desktop_or_laptop='d'):\n",
    "    \n",
    "    if desktop_or_laptop == 'l':\n",
    "\n",
    "        ## Dan's Mac folder location - NEEDS CHANGING\n",
    "        with h5py.File('../Project1/data/images_training.h5','r') as H:\n",
    "            data = np.copy(H['data'])\n",
    "        with h5py.File('../Project1/data/labels_training.h5','r') as H:\n",
    "            label = np.copy(H['label'])\n",
    "\n",
    "        with h5py.File('../Project1/data/images_testing.h5','r') as H:\n",
    "            data_test = np.copy(H['data'])\n",
    "        with h5py.File('../Project1/data/labels_testing_2000.h5','r') as H:\n",
    "            label_test = np.copy(H['label'])    \n",
    "\n",
    "\n",
    "    else:\n",
    "        ## Dan's desktop folder location - NEEDS CHANGING\n",
    "        with h5py.File('../../Input/images_training.h5','r') as H:\n",
    "            data = np.copy(H['data'])\n",
    "        with h5py.File('../../Input/labels_training.h5','r') as H:\n",
    "            label = np.copy(H['label'])\n",
    "        with h5py.File('../../Input/images_testing.h5','r') as H:\n",
    "            data_test = np.copy(H['data'])\n",
    "\n",
    "        with h5py.File('../../Input/labels_testing_2000.h5','r') as H:\n",
    "            label_test = np.copy(H['label'])     \n",
    "    \n",
    "    return(data, label, data_test, label_test)\n",
    "\n",
    "def add_intercept(X_mat,y_mat):\n",
    "    m = len(y_mat)\n",
    "    ones = np.ones((m,1))\n",
    "    \n",
    "    X = np.concatenate((ones,X_mat),axis=1)\n",
    "    m,n = X.shape\n",
    "    print(X.shape)\n",
    "    return(X,n)\n",
    "\n",
    "# Is the matrix symmetric?\n",
    "def is_symmetric(X, tolerance = 1e-9):\n",
    "    return(np.allclose(X,X.T, atol=tolerance))\n",
    "\n",
    "def get_minmax(X):\n",
    "    minmax = list()\n",
    "    for i in range(len(X[0])):\n",
    "        column_values = [row[i] for row in X]\n",
    "        mn = min(column_values)\n",
    "        mx = max(column_values)\n",
    "        minmax.append([mn,mx])\n",
    "    return(minmax)\n",
    "\n",
    "def normalise(X):\n",
    "    #print(X_train.shape)\n",
    "    X_scaled = (X - np.min(X,axis=0)) / (np.max(X, axis=0) - (np.min(X,axis=0) ))\n",
    "    return(X_scaled)\n",
    "\n",
    "\n",
    "class LogisticRegression:\n",
    "    def __init__(self,  max_iter, intercept, k, lmbda ):\n",
    "        #self.lr = lr\n",
    "        self.max_iter = max_iter\n",
    "        self.intercept = intercept\n",
    "        self.k = k\n",
    "        self.lmbda = lmbda\n",
    "        print (\"Logistic Regression model initialised with Max iterations = {}, K (classes) = {}, lmbda (Regularisation parameter) ={}\".format(self.max_iter,self.k, self.lmbda))\n",
    "    \n",
    "    def add_intercept(self, X_mat,y_mat):\n",
    "        m = len(y_mat)\n",
    "        ones = np.ones((m,1))\n",
    "\n",
    "        X_mat = np.concatenate((ones,X_mat),axis=1)\n",
    "        m_shape,n_shape = X_mat.shape\n",
    "        #print(\"n_shape: {}\".format(n_shape))\n",
    "        #print(\"X_mat.shape: {}\".format(X_mat.shape))\n",
    "        \n",
    "        return(X_mat,n_shape)\n",
    "    \n",
    "    # Defining the sigmoid function required in LR\n",
    "    def __sigmoid(self, z):\n",
    "        return 1/(1+np.exp(-z))\n",
    "    \n",
    "    def __cost(self, theta, X_arr, y_arr):\n",
    "        predictions = self.__sigmoid(X_arr @ theta)\n",
    "        predictions[predictions == 1] = 0.999 # log(1)=0 causes error in division\n",
    "        error = -y_arr * np.log(predictions) - (1 - y_arr) * np.log(1 - predictions);\n",
    "        return sum(error) / len(y_arr);\n",
    "    \n",
    "    # Vectorised cost function\n",
    "    def __costFunctionReg(self,theta, X, y, lmbda):\n",
    "        m = len(y)\n",
    "        temp1 = np.multiply(y, np.log(self.__sigmoid(np.dot(X, theta))))\n",
    "        temp2 = np.multiply(1-y, np.log(1-self.__sigmoid(np.dot(X, theta))))  \n",
    "        #print(np.sum(temp1 + temp2) / (-m) + np.sum(theta[1:]**2) * lmbda / (2*m))\n",
    "        return np.sum(temp1 + temp2) / (-m) + np.sum(theta[1:]**2) * lmbda / (2*m)\n",
    "    \n",
    "    \n",
    "    def fit(self, X_mat,max_iter, y_mat,n, full_outp):\n",
    "                        \n",
    "        theta = np.zeros((k,n)) #inital parameters\n",
    "        cost_values = {}\n",
    "        \n",
    "        \n",
    "        print(\"                                            \")\n",
    "        print(\"############################################\")\n",
    "        print(\"### Gradient Descent Optimisation beginning\")\n",
    "        print(\"############################################\")\n",
    "        for i in range(k):\n",
    "            label_class = i if i else 0\n",
    "            print('Class {} being optimised'.format(i))\n",
    "            #cost0 = cost(theta, X, (y==label_class.flatten()))\n",
    "            #cost[i] = cost(theta[i], X,y)\n",
    "            #print('Cost for Class {}:'.format(cost[i]))               \n",
    "            #ValueError: cannot copy sequence with size 5 to array axis with dimension 785\n",
    "            theta[i] = opt.fmin_cg(f = self.__costFunctionReg, x0 = theta[i].flatten(), gtol = 1e-03, fprime = self.__gradient_reg_vectorised, args = (X_mat,(y_mat == label_class).flatten(), self.lmbda),maxiter= max_iter, disp = True, full_output = full_outp)                        \n",
    "            #cost = {i,}\n",
    "            #theta[i] = opt.fmin_cg(f = costFunctionReg, x0 = theta[i].flatten(),  fprime = gradRegularization, args = (X_mat,(y == label_class).flatten(), lmbda), maxiter = 200, disp = True)    \n",
    "            \n",
    "        print(\"###########################################\")\n",
    "        print(\"### Gradient Descent Optimisation finished\")\n",
    "        print(\"###########################################\")\n",
    "            #if full_outp == 1:\n",
    "            #    return(theta, fopt, func_calls, grad_calls, warnflag)\n",
    "            #else:\n",
    "            #    return(theta)\n",
    "        return(theta)\n",
    "    \n",
    "      \n",
    "    \n",
    "    # Vectorised gradient\n",
    "    def __gradient_reg_vectorised(self, theta, X_arr, y_arr, lmbda):\n",
    "        m = len(y_arr)\n",
    "        temp = self.__sigmoid(np.dot(X_arr, theta)) - y_arr\n",
    "        temp = np.dot(temp.T, X_arr).T / m + theta * lmbda / m\n",
    "        temp[0] = temp[0] - theta[0] * lmbda / m\n",
    "        return temp\n",
    "    \n",
    "    # Vectorised cost function\n",
    "    def __cost_func_vectorised(self,theta, X_arr, y_arr, lmbda):\n",
    "        m = len(y_arr)\n",
    "        temp_weight1 = np.multiply(y_arr, np.log(self.__sigmoid(np.dot(X_arr, theta))))\n",
    "        temp_weight2 = np.multiply(1-y_arr, np.log(1-self.__sigmoid(np.dot(X_arr, theta))))\n",
    "        return np.sum(temp_weight1 + temp_weight2) / (-m) + np.sum(theta[1:]**2) * self.lmbda / (2*m)\n",
    "    \n",
    "    \n",
    "    def predict(self,X,y,theta):    \n",
    "        preds = []\n",
    "        preds = np.argmax(X @ theta.T, axis = 1)\n",
    "        preds = [e if e else 0 for e in preds]\n",
    "        average_pred = np.mean(preds == y.flatten()) * 100        \n",
    "        return(preds, average_pred)\n",
    "        #return(average_pred)\n",
    "    \n",
    "    def predict_prob(self,X, theta):\n",
    "        return (self.__sigmoid(np.dot(X),theta.T))\n",
    "    \n",
    "        \n",
    "    "
   ]
  },
  {
   "cell_type": "code",
   "execution_count": 72,
   "metadata": {
    "collapsed": false
   },
   "outputs": [
    {
     "data": {
      "text/plain": [
       "<matplotlib.text.Text at 0x1f0825eba20>"
      ]
     },
     "execution_count": 72,
     "metadata": {},
     "output_type": "execute_result"
    },
    {
     "name": "stdout",
     "output_type": "stream",
     "text": [
      "Pixel histogram prior to feature scaling : 0 \n"
     ]
    },
    {
     "data": {
      "text/plain": [
       "([array([28.,  0.,  0.,  0.,  0.,  0.,  0.,  0.,  0.,  0.,  0.,  0.,  0.,\n",
       "          0.,  0.,  0.,  0.,  0.,  0.,  0.]),\n",
       "  array([28.,  0.,  0.,  0.,  0.,  0.,  0.,  0.,  0.,  0.,  0.,  0.,  0.,\n",
       "          0.,  0.,  0.,  0.,  0.,  0.,  0.]),\n",
       "  array([28.,  0.,  0.,  0.,  0.,  0.,  0.,  0.,  0.,  0.,  0.,  0.,  0.,\n",
       "          0.,  0.,  0.,  0.,  0.,  0.,  0.]),\n",
       "  array([23.,  0.,  0.,  1.,  0.,  0.,  1.,  0.,  0.,  0.,  0.,  0.,  2.,\n",
       "          0.,  1.,  0.,  0.,  0.,  0.,  0.]),\n",
       "  array([21.,  0.,  0.,  0.,  1.,  0.,  0.,  0.,  0.,  0.,  0.,  0.,  0.,\n",
       "          0.,  1.,  0.,  0.,  2.,  3.,  0.]),\n",
       "  array([20.,  1.,  0.,  0.,  0.,  0.,  0.,  0.,  0.,  0.,  0.,  0.,  0.,\n",
       "          0.,  0.,  0.,  6.,  1.,  0.,  0.]),\n",
       "  array([20.,  0.,  0.,  0.,  0.,  0.,  0.,  0.,  0.,  0.,  0.,  0.,  0.,\n",
       "          0.,  1.,  1.,  1.,  3.,  1.,  1.]),\n",
       "  array([18.,  1.,  1.,  0.,  0.,  0.,  0.,  0.,  0.,  0.,  0.,  0.,  0.,\n",
       "          0.,  0.,  0.,  5.,  1.,  1.,  1.]),\n",
       "  array([1., 0., 0., 0., 0., 0., 1., 1., 0., 0., 1., 3., 1., 5., 3., 3., 2.,\n",
       "         2., 2., 3.]),\n",
       "  array([ 1.,  0.,  0.,  0.,  0.,  0.,  0.,  1.,  0.,  0.,  2.,  0.,  0.,\n",
       "          0.,  1.,  2.,  3., 15.,  3.,  0.]),\n",
       "  array([ 0.,  0.,  0.,  0.,  0.,  1.,  0.,  1.,  1.,  0.,  0.,  2.,  0.,\n",
       "          0.,  2.,  5., 11.,  3.,  0.,  2.]),\n",
       "  array([ 0.,  0.,  0.,  0.,  1.,  1.,  0.,  1.,  0.,  0.,  0.,  1.,  1.,\n",
       "          1.,  3.,  3., 14.,  1.,  0.,  1.]),\n",
       "  array([ 0.,  0.,  0.,  0.,  0.,  1.,  0.,  1.,  0.,  0.,  1.,  2.,  1.,\n",
       "          2.,  1.,  2., 12.,  1.,  3.,  1.]),\n",
       "  array([ 0.,  0.,  0.,  0.,  2.,  0.,  0.,  0.,  1.,  0.,  1.,  3.,  0.,\n",
       "          0.,  1.,  0., 14.,  3.,  1.,  2.]),\n",
       "  array([ 0.,  0.,  0.,  1.,  0.,  0.,  0.,  0.,  1.,  1.,  1.,  0.,  2.,\n",
       "          1.,  4.,  1., 14.,  0.,  0.,  2.]),\n",
       "  array([ 0.,  0.,  0.,  0.,  1.,  0.,  0.,  1.,  0.,  3.,  0.,  2.,  1.,\n",
       "          0.,  3.,  1., 13.,  1.,  0.,  2.]),\n",
       "  array([ 0.,  0.,  0.,  1.,  1.,  1.,  1.,  0.,  0.,  0.,  0.,  1.,  0.,\n",
       "          3.,  0.,  0., 14.,  1.,  1.,  4.]),\n",
       "  array([ 0.,  0.,  0.,  0.,  0.,  1.,  1.,  0.,  0.,  0.,  1.,  2.,  2.,\n",
       "          0.,  2.,  1., 12.,  1.,  4.,  1.]),\n",
       "  array([ 0.,  0.,  0.,  0.,  0.,  0.,  1.,  0.,  1.,  0.,  2.,  0.,  0.,\n",
       "          3.,  3.,  2., 11.,  3.,  1.,  1.]),\n",
       "  array([ 0.,  0.,  0.,  0.,  0.,  1.,  0.,  2.,  0.,  0.,  1.,  1.,  0.,\n",
       "          1.,  1.,  5., 11.,  2.,  2.,  1.]),\n",
       "  array([ 1.,  0.,  0.,  0.,  0.,  0.,  0.,  0.,  1.,  0.,  1.,  1.,  0.,\n",
       "          0.,  1.,  0.,  5., 16.,  1.,  1.]),\n",
       "  array([1., 0., 0., 0., 0., 0., 1., 0., 0., 0., 0., 3., 6., 0., 1., 4., 6.,\n",
       "         2., 3., 1.]),\n",
       "  array([18.,  1.,  0.,  0.,  1.,  0.,  0.,  0.,  0.,  0.,  0.,  0.,  0.,\n",
       "          0.,  0.,  1.,  2.,  3.,  2.,  0.]),\n",
       "  array([19.,  0.,  0.,  0.,  0.,  0.,  0.,  1.,  0.,  0.,  0.,  0.,  0.,\n",
       "          0.,  0.,  0.,  2.,  5.,  1.,  0.]),\n",
       "  array([19.,  1.,  0.,  0.,  1.,  0.,  0.,  0.,  0.,  0.,  0.,  0.,  0.,\n",
       "          0.,  0.,  0.,  3.,  2.,  2.,  0.]),\n",
       "  array([22.,  0.,  0.,  0.,  0.,  0.,  0.,  0.,  0.,  0.,  0.,  0.,  0.,\n",
       "          1.,  0.,  0.,  1.,  1.,  1.,  2.]),\n",
       "  array([24.,  0.,  0.,  0.,  1.,  0.,  0.,  1.,  0.,  0.,  0.,  0.,  0.,\n",
       "          0.,  1.,  0.,  0.,  1.,  0.,  0.]),\n",
       "  array([28.,  0.,  0.,  0.,  0.,  0.,  0.,  0.,  0.,  0.,  0.,  0.,  0.,\n",
       "          0.,  0.,  0.,  0.,  0.,  0.,  0.])],\n",
       " array([  0.  ,  12.75,  25.5 ,  38.25,  51.  ,  63.75,  76.5 ,  89.25,\n",
       "        102.  , 114.75, 127.5 , 140.25, 153.  , 165.75, 178.5 , 191.25,\n",
       "        204.  , 216.75, 229.5 , 242.25, 255.  ]),\n",
       " <a list of 28 Lists of Patches objects>)"
      ]
     },
     "execution_count": 72,
     "metadata": {},
     "output_type": "execute_result"
    },
    {
     "data": {
      "text/plain": [
       "<matplotlib.text.Text at 0x1f0828c8e48>"
      ]
     },
     "execution_count": 72,
     "metadata": {},
     "output_type": "execute_result"
    },
    {
     "name": "stdout",
     "output_type": "stream",
     "text": [
      "Pixel histogram prior to feature scaling : 1 \n"
     ]
    },
    {
     "data": {
      "text/plain": [
       "([array([28.,  0.,  0.,  0.,  0.,  0.,  0.,  0.,  0.,  0.,  0.,  0.,  0.,\n",
       "          0.,  0.,  0.,  0.,  0.,  0.,  0.]),\n",
       "  array([28.,  0.,  0.,  0.,  0.,  0.,  0.,  0.,  0.,  0.,  0.,  0.,  0.,\n",
       "          0.,  0.,  0.,  0.,  0.,  0.,  0.]),\n",
       "  array([28.,  0.,  0.,  0.,  0.,  0.,  0.,  0.,  0.,  0.,  0.,  0.,  0.,\n",
       "          0.,  0.,  0.,  0.,  0.,  0.,  0.]),\n",
       "  array([28.,  0.,  0.,  0.,  0.,  0.,  0.,  0.,  0.,  0.,  0.,  0.,  0.,\n",
       "          0.,  0.,  0.,  0.,  0.,  0.,  0.]),\n",
       "  array([28.,  0.,  0.,  0.,  0.,  0.,  0.,  0.,  0.,  0.,  0.,  0.,  0.,\n",
       "          0.,  0.,  0.,  0.,  0.,  0.,  0.]),\n",
       "  array([28.,  0.,  0.,  0.,  0.,  0.,  0.,  0.,  0.,  0.,  0.,  0.,  0.,\n",
       "          0.,  0.,  0.,  0.,  0.,  0.,  0.]),\n",
       "  array([28.,  0.,  0.,  0.,  0.,  0.,  0.,  0.,  0.,  0.,  0.,  0.,  0.,\n",
       "          0.,  0.,  0.,  0.,  0.,  0.,  0.]),\n",
       "  array([28.,  0.,  0.,  0.,  0.,  0.,  0.,  0.,  0.,  0.,  0.,  0.,  0.,\n",
       "          0.,  0.,  0.,  0.,  0.,  0.,  0.]),\n",
       "  array([28.,  0.,  0.,  0.,  0.,  0.,  0.,  0.,  0.,  0.,  0.,  0.,  0.,\n",
       "          0.,  0.,  0.,  0.,  0.,  0.,  0.]),\n",
       "  array([0., 0., 1., 0., 0., 0., 0., 1., 1., 1., 0., 3., 3., 9., 3., 1., 2.,\n",
       "         3., 0., 0.]),\n",
       "  array([ 0.,  0.,  0.,  0.,  0.,  0.,  0.,  0.,  0.,  0.,  0.,  0.,  0.,\n",
       "          0.,  0.,  0.,  4., 14.,  7.,  3.]),\n",
       "  array([ 0.,  0.,  0.,  0.,  0.,  0.,  0.,  0.,  0.,  0.,  0.,  0.,  0.,\n",
       "          0.,  0.,  0., 11., 12.,  5.,  0.]),\n",
       "  array([ 0.,  0.,  0.,  0.,  0.,  0.,  0.,  0.,  0.,  0.,  0.,  0.,  0.,\n",
       "          1.,  0.,  0.,  4., 10., 13.,  0.]),\n",
       "  array([5., 1., 0., 1., 0., 1., 1., 0., 1., 1., 0., 1., 1., 1., 1., 0., 3.,\n",
       "         5., 4., 1.]),\n",
       "  array([19.,  0.,  1.,  0.,  1.,  0.,  0.,  0.,  1.,  0.,  0.,  0.,  0.,\n",
       "          0.,  0.,  0.,  2.,  3.,  1.,  0.]),\n",
       "  array([6., 0., 1., 1., 0., 1., 1., 0., 1., 0., 1., 0., 1., 1., 0., 1., 4.,\n",
       "         7., 2., 0.]),\n",
       "  array([ 0.,  0.,  0.,  0.,  0.,  0.,  0.,  0.,  0.,  0.,  0.,  0.,  1.,\n",
       "          0.,  2.,  3., 11., 10.,  1.,  0.]),\n",
       "  array([ 0.,  0.,  0.,  0.,  0.,  0.,  0.,  0.,  0.,  0.,  0.,  0.,  0.,\n",
       "          0.,  1., 11., 14.,  1.,  1.,  0.]),\n",
       "  array([ 0.,  0.,  0.,  0.,  0.,  0.,  0.,  0.,  0.,  0.,  0.,  0.,  0.,\n",
       "          0.,  0., 10., 12.,  4.,  1.,  1.]),\n",
       "  array([ 0.,  0.,  0.,  0.,  1.,  0.,  0.,  0.,  0.,  1.,  0.,  2.,  0.,\n",
       "          2.,  9., 13.,  0.,  0.,  0.,  0.]),\n",
       "  array([28.,  0.,  0.,  0.,  0.,  0.,  0.,  0.,  0.,  0.,  0.,  0.,  0.,\n",
       "          0.,  0.,  0.,  0.,  0.,  0.,  0.]),\n",
       "  array([28.,  0.,  0.,  0.,  0.,  0.,  0.,  0.,  0.,  0.,  0.,  0.,  0.,\n",
       "          0.,  0.,  0.,  0.,  0.,  0.,  0.]),\n",
       "  array([28.,  0.,  0.,  0.,  0.,  0.,  0.,  0.,  0.,  0.,  0.,  0.,  0.,\n",
       "          0.,  0.,  0.,  0.,  0.,  0.,  0.]),\n",
       "  array([28.,  0.,  0.,  0.,  0.,  0.,  0.,  0.,  0.,  0.,  0.,  0.,  0.,\n",
       "          0.,  0.,  0.,  0.,  0.,  0.,  0.]),\n",
       "  array([28.,  0.,  0.,  0.,  0.,  0.,  0.,  0.,  0.,  0.,  0.,  0.,  0.,\n",
       "          0.,  0.,  0.,  0.,  0.,  0.,  0.]),\n",
       "  array([28.,  0.,  0.,  0.,  0.,  0.,  0.,  0.,  0.,  0.,  0.,  0.,  0.,\n",
       "          0.,  0.,  0.,  0.,  0.,  0.,  0.]),\n",
       "  array([28.,  0.,  0.,  0.,  0.,  0.,  0.,  0.,  0.,  0.,  0.,  0.,  0.,\n",
       "          0.,  0.,  0.,  0.,  0.,  0.,  0.]),\n",
       "  array([28.,  0.,  0.,  0.,  0.,  0.,  0.,  0.,  0.,  0.,  0.,  0.,  0.,\n",
       "          0.,  0.,  0.,  0.,  0.,  0.,  0.])],\n",
       " array([  0.  ,  12.75,  25.5 ,  38.25,  51.  ,  63.75,  76.5 ,  89.25,\n",
       "        102.  , 114.75, 127.5 , 140.25, 153.  , 165.75, 178.5 , 191.25,\n",
       "        204.  , 216.75, 229.5 , 242.25, 255.  ]),\n",
       " <a list of 28 Lists of Patches objects>)"
      ]
     },
     "execution_count": 72,
     "metadata": {},
     "output_type": "execute_result"
    },
    {
     "data": {
      "text/plain": [
       "<matplotlib.text.Text at 0x1f086c78358>"
      ]
     },
     "execution_count": 72,
     "metadata": {},
     "output_type": "execute_result"
    },
    {
     "name": "stdout",
     "output_type": "stream",
     "text": [
      "Pixel histogram prior to feature scaling : 2 \n"
     ]
    },
    {
     "data": {
      "text/plain": [
       "([array([28.,  0.,  0.,  0.,  0.,  0.,  0.,  0.,  0.,  0.,  0.,  0.,  0.,\n",
       "          0.,  0.,  0.,  0.,  0.,  0.,  0.]),\n",
       "  array([28.,  0.,  0.,  0.,  0.,  0.,  0.,  0.,  0.,  0.,  0.,  0.,  0.,\n",
       "          0.,  0.,  0.,  0.,  0.,  0.,  0.]),\n",
       "  array([28.,  0.,  0.,  0.,  0.,  0.,  0.,  0.,  0.,  0.,  0.,  0.,  0.,\n",
       "          0.,  0.,  0.,  0.,  0.,  0.,  0.]),\n",
       "  array([28.,  0.,  0.,  0.,  0.,  0.,  0.,  0.,  0.,  0.,  0.,  0.,  0.,\n",
       "          0.,  0.,  0.,  0.,  0.,  0.,  0.]),\n",
       "  array([12.,  1.,  0.,  1.,  0.,  2.,  0.,  2.,  1.,  0.,  2.,  2.,  3.,\n",
       "          2.,  0.,  0.,  0.,  0.,  0.,  0.]),\n",
       "  array([4., 0., 0., 0., 0., 0., 0., 1., 0., 0., 0., 1., 2., 0., 1., 1., 6.,\n",
       "         3., 7., 2.]),\n",
       "  array([2., 0., 0., 0., 0., 0., 0., 1., 0., 0., 0., 0., 0., 1., 0., 0., 9.,\n",
       "         7., 2., 6.]),\n",
       "  array([1., 0., 1., 0., 1., 0., 0., 2., 2., 0., 2., 1., 0., 0., 1., 2., 2.,\n",
       "         6., 4., 3.]),\n",
       "  array([5., 0., 0., 0., 0., 0., 0., 2., 2., 2., 1., 1., 0., 1., 0., 3., 3.,\n",
       "         3., 2., 3.]),\n",
       "  array([ 4.,  0.,  0.,  0.,  0.,  0.,  0.,  0.,  0.,  0.,  1.,  0.,  0.,\n",
       "          0.,  0., 12.,  3.,  2.,  5.,  1.]),\n",
       "  array([ 3.,  0.,  0.,  0.,  0.,  0.,  0.,  1.,  0.,  0.,  1.,  0.,  0.,\n",
       "          0.,  0.,  8., 14.,  1.,  0.,  0.]),\n",
       "  array([ 3.,  0.,  0.,  0.,  0.,  0.,  0.,  1.,  0.,  0.,  0.,  0.,  0.,\n",
       "          0.,  0.,  7., 15.,  2.,  0.,  0.]),\n",
       "  array([ 3.,  0.,  0.,  0.,  0.,  0.,  0.,  1.,  0.,  0.,  0.,  0.,  1.,\n",
       "          0.,  0.,  6., 15.,  1.,  0.,  1.]),\n",
       "  array([ 3.,  0.,  0.,  0.,  0.,  0.,  0.,  1.,  0.,  1.,  0.,  0.,  0.,\n",
       "          0.,  0.,  5., 16.,  1.,  0.,  1.]),\n",
       "  array([ 3.,  0.,  0.,  0.,  0.,  0.,  1.,  0.,  1.,  0.,  0.,  0.,  0.,\n",
       "          0.,  0.,  5., 16.,  1.,  0.,  1.]),\n",
       "  array([ 3.,  0.,  0.,  0.,  0.,  0.,  0.,  1.,  0.,  1.,  0.,  0.,  0.,\n",
       "          0.,  0.,  6., 15.,  1.,  0.,  1.]),\n",
       "  array([ 3.,  0.,  0.,  0.,  0.,  0.,  0.,  1.,  0.,  0.,  0.,  1.,  0.,\n",
       "          0.,  0.,  6., 15.,  0.,  2.,  0.]),\n",
       "  array([ 3.,  0.,  0.,  0.,  0.,  0.,  0.,  1.,  0.,  0.,  0.,  0.,  0.,\n",
       "          0.,  0.,  7., 15.,  1.,  1.,  0.]),\n",
       "  array([ 3.,  0.,  0.,  0.,  0.,  0.,  1.,  0.,  0.,  0.,  0.,  0.,  1.,\n",
       "          0.,  0.,  8., 13.,  2.,  0.,  0.]),\n",
       "  array([ 4.,  0.,  0.,  0.,  0.,  0.,  0.,  0.,  1.,  0.,  0.,  0.,  0.,\n",
       "          0.,  0., 12.,  3.,  3.,  3.,  2.]),\n",
       "  array([5., 0., 0., 0., 1., 0., 0., 0., 1., 2., 0., 4., 1., 0., 0., 3., 4.,\n",
       "         1., 2., 4.]),\n",
       "  array([1., 2., 0., 1., 2., 1., 2., 0., 0., 0., 0., 0., 1., 0., 1., 3., 3.,\n",
       "         4., 6., 1.]),\n",
       "  array([2., 0., 0., 0., 0., 0., 1., 0., 0., 0., 0., 0., 1., 0., 0., 0., 7.,\n",
       "         6., 5., 6.]),\n",
       "  array([4., 0., 0., 0., 0., 0., 0., 1., 0., 0., 0., 1., 0., 2., 0., 0., 7.,\n",
       "         2., 6., 5.]),\n",
       "  array([12.,  1.,  0.,  1.,  1.,  1.,  2.,  2.,  1.,  2.,  1.,  2.,  1.,\n",
       "          1.,  0.,  0.,  0.,  0.,  0.,  0.]),\n",
       "  array([28.,  0.,  0.,  0.,  0.,  0.,  0.,  0.,  0.,  0.,  0.,  0.,  0.,\n",
       "          0.,  0.,  0.,  0.,  0.,  0.,  0.]),\n",
       "  array([28.,  0.,  0.,  0.,  0.,  0.,  0.,  0.,  0.,  0.,  0.,  0.,  0.,\n",
       "          0.,  0.,  0.,  0.,  0.,  0.,  0.]),\n",
       "  array([28.,  0.,  0.,  0.,  0.,  0.,  0.,  0.,  0.,  0.,  0.,  0.,  0.,\n",
       "          0.,  0.,  0.,  0.,  0.,  0.,  0.])],\n",
       " array([  0.  ,  12.75,  25.5 ,  38.25,  51.  ,  63.75,  76.5 ,  89.25,\n",
       "        102.  , 114.75, 127.5 , 140.25, 153.  , 165.75, 178.5 , 191.25,\n",
       "        204.  , 216.75, 229.5 , 242.25, 255.  ]),\n",
       " <a list of 28 Lists of Patches objects>)"
      ]
     },
     "execution_count": 72,
     "metadata": {},
     "output_type": "execute_result"
    },
    {
     "data": {
      "text/plain": [
       "<matplotlib.text.Text at 0x1f0877870f0>"
      ]
     },
     "execution_count": 72,
     "metadata": {},
     "output_type": "execute_result"
    },
    {
     "name": "stdout",
     "output_type": "stream",
     "text": [
      "Pixel histogram prior to feature scaling : 3 \n"
     ]
    },
    {
     "data": {
      "text/plain": [
       "([array([28.,  0.,  0.,  0.,  0.,  0.,  0.,  0.,  0.,  0.,  0.,  0.,  0.,\n",
       "          0.,  0.,  0.,  0.,  0.,  0.,  0.]),\n",
       "  array([28.,  0.,  0.,  0.,  0.,  0.,  0.,  0.,  0.,  0.,  0.,  0.,  0.,\n",
       "          0.,  0.,  0.,  0.,  0.,  0.,  0.]),\n",
       "  array([28.,  0.,  0.,  0.,  0.,  0.,  0.,  0.,  0.,  0.,  0.,  0.,  0.,\n",
       "          0.,  0.,  0.,  0.,  0.,  0.,  0.]),\n",
       "  array([28.,  0.,  0.,  0.,  0.,  0.,  0.,  0.,  0.,  0.,  0.,  0.,  0.,\n",
       "          0.,  0.,  0.,  0.,  0.,  0.,  0.]),\n",
       "  array([28.,  0.,  0.,  0.,  0.,  0.,  0.,  0.,  0.,  0.,  0.,  0.,  0.,\n",
       "          0.,  0.,  0.,  0.,  0.,  0.,  0.]),\n",
       "  array([28.,  0.,  0.,  0.,  0.,  0.,  0.,  0.,  0.,  0.,  0.,  0.,  0.,\n",
       "          0.,  0.,  0.,  0.,  0.,  0.,  0.]),\n",
       "  array([18.,  1.,  0.,  0.,  1.,  0.,  1.,  1.,  2.,  1.,  0.,  0.,  1.,\n",
       "          0.,  1.,  1.,  0.,  0.,  0.,  0.]),\n",
       "  array([11.,  0.,  1.,  0.,  0.,  0.,  0.,  1.,  0.,  0.,  1.,  0.,  0.,\n",
       "          2.,  2.,  3.,  2.,  2.,  0.,  3.]),\n",
       "  array([2., 0., 1., 1., 1., 1., 1., 1., 0., 0., 1., 0., 5., 2., 2., 0., 5.,\n",
       "         2., 3., 0.]),\n",
       "  array([1., 0., 2., 1., 0., 1., 1., 0., 2., 0., 0., 1., 0., 2., 4., 4., 2.,\n",
       "         3., 2., 2.]),\n",
       "  array([0., 0., 1., 0., 0., 0., 0., 0., 1., 0., 0., 0., 1., 3., 7., 4., 6.,\n",
       "         2., 2., 1.]),\n",
       "  array([0., 0., 0., 0., 0., 0., 0., 0., 1., 0., 0., 1., 0., 3., 9., 7., 6.,\n",
       "         1., 0., 0.]),\n",
       "  array([0., 0., 0., 0., 0., 0., 0., 1., 0., 0., 1., 0., 0., 3., 4., 1., 6.,\n",
       "         7., 4., 1.]),\n",
       "  array([ 0.,  0.,  0.,  0.,  0.,  1.,  0.,  1.,  0.,  0.,  1.,  0.,  0.,\n",
       "          1.,  4.,  4.,  2.,  1.,  2., 11.]),\n",
       "  array([ 0.,  0.,  0.,  0.,  0.,  0.,  0.,  1.,  1.,  0.,  0.,  0.,  0.,\n",
       "          2.,  5.,  7., 10.,  1.,  0.,  1.]),\n",
       "  array([ 0.,  0.,  0.,  0.,  0.,  0.,  0.,  0.,  0.,  0.,  2.,  0.,  0.,\n",
       "          4.,  4., 12.,  4.,  1.,  0.,  1.]),\n",
       "  array([ 0.,  0.,  0.,  0.,  0.,  0.,  1.,  0.,  0.,  1.,  0.,  0.,  0.,\n",
       "          1.,  6.,  7., 10.,  2.,  0.,  0.]),\n",
       "  array([0., 0., 0., 1., 0., 0., 0., 0., 0., 1., 0., 0., 2., 3., 4., 4., 6.,\n",
       "         3., 3., 1.]),\n",
       "  array([1., 0., 0., 0., 0., 1., 0., 1., 1., 0., 1., 1., 1., 0., 4., 5., 6.,\n",
       "         3., 0., 3.]),\n",
       "  array([ 1.,  0.,  0.,  0.,  0.,  1.,  3.,  1.,  1.,  2.,  0.,  1.,  0.,\n",
       "          1.,  2.,  2., 11.,  2.,  0.,  0.]),\n",
       "  array([9., 1., 0., 1., 0., 1., 1., 0., 0., 1., 0., 0., 1., 1., 1., 0., 2.,\n",
       "         4., 5., 0.]),\n",
       "  array([15.,  1.,  0.,  0.,  0.,  1.,  0.,  0.,  0.,  1.,  0.,  0.,  2.,\n",
       "          0.,  1.,  2.,  2.,  2.,  0.,  1.]),\n",
       "  array([22.,  2.,  0.,  1.,  1.,  1.,  1.,  0.,  0.,  0.,  0.,  0.,  0.,\n",
       "          0.,  0.,  0.,  0.,  0.,  0.,  0.]),\n",
       "  array([28.,  0.,  0.,  0.,  0.,  0.,  0.,  0.,  0.,  0.,  0.,  0.,  0.,\n",
       "          0.,  0.,  0.,  0.,  0.,  0.,  0.]),\n",
       "  array([28.,  0.,  0.,  0.,  0.,  0.,  0.,  0.,  0.,  0.,  0.,  0.,  0.,\n",
       "          0.,  0.,  0.,  0.,  0.,  0.,  0.]),\n",
       "  array([28.,  0.,  0.,  0.,  0.,  0.,  0.,  0.,  0.,  0.,  0.,  0.,  0.,\n",
       "          0.,  0.,  0.,  0.,  0.,  0.,  0.]),\n",
       "  array([28.,  0.,  0.,  0.,  0.,  0.,  0.,  0.,  0.,  0.,  0.,  0.,  0.,\n",
       "          0.,  0.,  0.,  0.,  0.,  0.,  0.]),\n",
       "  array([28.,  0.,  0.,  0.,  0.,  0.,  0.,  0.,  0.,  0.,  0.,  0.,  0.,\n",
       "          0.,  0.,  0.,  0.,  0.,  0.,  0.])],\n",
       " array([  0.  ,  12.75,  25.5 ,  38.25,  51.  ,  63.75,  76.5 ,  89.25,\n",
       "        102.  , 114.75, 127.5 , 140.25, 153.  , 165.75, 178.5 , 191.25,\n",
       "        204.  , 216.75, 229.5 , 242.25, 255.  ]),\n",
       " <a list of 28 Lists of Patches objects>)"
      ]
     },
     "execution_count": 72,
     "metadata": {},
     "output_type": "execute_result"
    },
    {
     "data": {
      "text/plain": [
       "<matplotlib.text.Text at 0x1f08325ee10>"
      ]
     },
     "execution_count": 72,
     "metadata": {},
     "output_type": "execute_result"
    },
    {
     "name": "stdout",
     "output_type": "stream",
     "text": [
      "Pixel histogram prior to feature scaling : 4 \n"
     ]
    },
    {
     "data": {
      "text/plain": [
       "([array([28.,  0.,  0.,  0.,  0.,  0.,  0.,  0.,  0.,  0.,  0.,  0.,  0.,\n",
       "          0.,  0.,  0.,  0.,  0.,  0.,  0.]),\n",
       "  array([28.,  0.,  0.,  0.,  0.,  0.,  0.,  0.,  0.,  0.,  0.,  0.,  0.,\n",
       "          0.,  0.,  0.,  0.,  0.,  0.,  0.]),\n",
       "  array([28.,  0.,  0.,  0.,  0.,  0.,  0.,  0.,  0.,  0.,  0.,  0.,  0.,\n",
       "          0.,  0.,  0.,  0.,  0.,  0.,  0.]),\n",
       "  array([28.,  0.,  0.,  0.,  0.,  0.,  0.,  0.,  0.,  0.,  0.,  0.,  0.,\n",
       "          0.,  0.,  0.,  0.,  0.,  0.,  0.]),\n",
       "  array([28.,  0.,  0.,  0.,  0.,  0.,  0.,  0.,  0.,  0.,  0.,  0.,  0.,\n",
       "          0.,  0.,  0.,  0.,  0.,  0.,  0.]),\n",
       "  array([15.,  0.,  0.,  2.,  0.,  1.,  1.,  1.,  2.,  2.,  3.,  0.,  0.,\n",
       "          1.,  0.,  0.,  0.,  0.,  0.,  0.]),\n",
       "  array([8., 0., 1., 0., 0., 0., 1., 0., 0., 0., 0., 1., 0., 1., 6., 4., 5.,\n",
       "         0., 1., 0.]),\n",
       "  array([6., 0., 0., 1., 0., 0., 0., 0., 0., 0., 2., 2., 2., 4., 8., 2., 1.,\n",
       "         0., 0., 0.]),\n",
       "  array([5., 1., 0., 0., 0., 0., 0., 0., 0., 0., 0., 0., 1., 0., 4., 0., 4.,\n",
       "         2., 5., 6.]),\n",
       "  array([3., 0., 0., 0., 0., 0., 0., 0., 1., 0., 1., 0., 4., 5., 6., 3., 3.,\n",
       "         1., 1., 0.]),\n",
       "  array([2., 0., 0., 0., 0., 0., 0., 0., 0., 0., 0., 1., 5., 5., 7., 2., 5.,\n",
       "         1., 0., 0.]),\n",
       "  array([1., 0., 0., 0., 0., 1., 0., 0., 0., 0., 0., 1., 6., 7., 3., 4., 5.,\n",
       "         0., 0., 0.]),\n",
       "  array([1., 0., 0., 0., 0., 0., 0., 1., 0., 0., 0., 6., 4., 3., 2., 3., 4.,\n",
       "         3., 0., 1.]),\n",
       "  array([1., 0., 0., 0., 0., 0., 0., 2., 2., 0., 8., 2., 4., 4., 1., 0., 0.,\n",
       "         3., 0., 1.]),\n",
       "  array([ 0.,  0.,  0.,  0.,  0.,  0.,  2.,  0.,  1.,  0.,  0.,  1.,  0.,\n",
       "          0.,  1.,  2.,  9., 10.,  2.,  0.]),\n",
       "  array([0., 1., 0., 0., 0., 0., 1., 0., 0., 0., 0., 2., 9., 3., 4., 4., 0.,\n",
       "         2., 2., 0.]),\n",
       "  array([1., 0., 0., 0., 0., 0., 2., 2., 3., 2., 3., 3., 0., 1., 5., 5., 0.,\n",
       "         0., 1., 0.]),\n",
       "  array([1., 0., 0., 0., 0., 0., 0., 0., 5., 3., 3., 5., 1., 1., 3., 4., 1.,\n",
       "         1., 0., 0.]),\n",
       "  array([1., 0., 0., 0., 1., 0., 0., 0., 0., 0., 5., 7., 3., 4., 1., 3., 2.,\n",
       "         1., 0., 0.]),\n",
       "  array([1., 1., 0., 0., 0., 0., 0., 0., 0., 1., 3., 7., 3., 2., 7., 0., 2.,\n",
       "         1., 0., 0.]),\n",
       "  array([4., 1., 0., 0., 0., 1., 0., 0., 0., 0., 1., 3., 1., 1., 5., 4., 4.,\n",
       "         3., 0., 0.]),\n",
       "  array([6., 0., 0., 0., 0., 0., 0., 0., 0., 0., 2., 5., 4., 4., 5., 1., 1.,\n",
       "         0., 0., 0.]),\n",
       "  array([7., 0., 0., 0., 1., 0., 0., 0., 1., 1., 2., 2., 4., 2., 1., 4., 0.,\n",
       "         2., 1., 0.]),\n",
       "  array([12.,  1.,  0.,  2.,  0.,  1.,  2.,  1.,  3.,  1.,  2.,  3.,  0.,\n",
       "          0.,  0.,  0.,  0.,  0.,  0.,  0.]),\n",
       "  array([28.,  0.,  0.,  0.,  0.,  0.,  0.,  0.,  0.,  0.,  0.,  0.,  0.,\n",
       "          0.,  0.,  0.,  0.,  0.,  0.,  0.]),\n",
       "  array([28.,  0.,  0.,  0.,  0.,  0.,  0.,  0.,  0.,  0.,  0.,  0.,  0.,\n",
       "          0.,  0.,  0.,  0.,  0.,  0.,  0.]),\n",
       "  array([28.,  0.,  0.,  0.,  0.,  0.,  0.,  0.,  0.,  0.,  0.,  0.,  0.,\n",
       "          0.,  0.,  0.,  0.,  0.,  0.,  0.]),\n",
       "  array([28.,  0.,  0.,  0.,  0.,  0.,  0.,  0.,  0.,  0.,  0.,  0.,  0.,\n",
       "          0.,  0.,  0.,  0.,  0.,  0.,  0.])],\n",
       " array([  0. ,  12.7,  25.4,  38.1,  50.8,  63.5,  76.2,  88.9, 101.6,\n",
       "        114.3, 127. , 139.7, 152.4, 165.1, 177.8, 190.5, 203.2, 215.9,\n",
       "        228.6, 241.3, 254. ]),\n",
       " <a list of 28 Lists of Patches objects>)"
      ]
     },
     "execution_count": 72,
     "metadata": {},
     "output_type": "execute_result"
    },
    {
     "data": {
      "text/plain": [
       "<matplotlib.text.Text at 0x1f08325c748>"
      ]
     },
     "execution_count": 72,
     "metadata": {},
     "output_type": "execute_result"
    },
    {
     "name": "stdout",
     "output_type": "stream",
     "text": [
      "Pixel histogram prior to feature scaling : 5 \n"
     ]
    },
    {
     "data": {
      "text/plain": [
       "([array([26.,  0.,  1.,  0.,  0.,  0.,  0.,  0.,  1.,  0.,  0.,  0.,  0.,\n",
       "          0.,  0.,  0.,  0.,  0.,  0.,  0.]),\n",
       "  array([26.,  0.,  0.,  0.,  0.,  0.,  0.,  0.,  0.,  0.,  0.,  0.,  0.,\n",
       "          0.,  0.,  0.,  0.,  1.,  1.,  0.]),\n",
       "  array([25.,  1.,  0.,  0.,  0.,  0.,  0.,  0.,  0.,  0.,  0.,  0.,  0.,\n",
       "          0.,  1.,  0.,  0.,  0.,  1.,  0.]),\n",
       "  array([25.,  0.,  0.,  1.,  0.,  0.,  0.,  0.,  0.,  0.,  0.,  0.,  0.,\n",
       "          0.,  1.,  0.,  0.,  0.,  1.,  0.]),\n",
       "  array([24.,  0.,  0.,  0.,  0.,  0.,  1.,  1.,  0.,  0.,  0.,  0.,  0.,\n",
       "          0.,  0.,  0.,  1.,  0.,  1.,  0.]),\n",
       "  array([21.,  0.,  0.,  1.,  0.,  0.,  0.,  0.,  1.,  0.,  0.,  1.,  0.,\n",
       "          1.,  0.,  0.,  0.,  1.,  0.,  2.]),\n",
       "  array([20.,  0.,  0.,  0.,  0.,  0.,  0.,  1.,  0.,  0.,  0.,  2.,  0.,\n",
       "          0.,  1.,  0.,  1.,  0.,  0.,  3.]),\n",
       "  array([17.,  0.,  0.,  0.,  0.,  0.,  1.,  0.,  0.,  0.,  2.,  1.,  0.,\n",
       "          1.,  1.,  2.,  0.,  1.,  1.,  1.]),\n",
       "  array([17.,  1.,  0.,  0.,  0.,  0.,  2.,  0.,  0.,  1.,  0.,  1.,  0.,\n",
       "          1.,  2.,  1.,  0.,  0.,  0.,  2.]),\n",
       "  array([16.,  0.,  0.,  1.,  0.,  0.,  0.,  1.,  2.,  0.,  0.,  0.,  1.,\n",
       "          0.,  1.,  2.,  0.,  1.,  2.,  1.]),\n",
       "  array([14.,  1.,  0.,  0.,  0.,  0.,  1.,  1.,  0.,  1.,  1.,  0.,  1.,\n",
       "          0.,  1.,  1.,  0.,  3.,  0.,  3.]),\n",
       "  array([17.,  0.,  1.,  1.,  0.,  0.,  0.,  1.,  0.,  0.,  0.,  0.,  0.,\n",
       "          0.,  1.,  1.,  2.,  2.,  0.,  2.]),\n",
       "  array([18.,  0.,  0.,  1.,  0.,  0.,  0.,  2.,  0.,  0.,  2.,  0.,  1.,\n",
       "          0.,  0.,  0.,  0.,  0.,  3.,  1.]),\n",
       "  array([19.,  0.,  0.,  0.,  0.,  0.,  0.,  0.,  0.,  1.,  0.,  0.,  0.,\n",
       "          0.,  2.,  2.,  1.,  1.,  0.,  2.]),\n",
       "  array([16.,  0.,  1.,  1.,  0.,  0.,  0.,  1.,  0.,  1.,  0.,  0.,  2.,\n",
       "          0.,  1.,  1.,  1.,  0.,  1.,  2.]),\n",
       "  array([16.,  0.,  1.,  0.,  0.,  0.,  0.,  0.,  0.,  2.,  1.,  1.,  0.,\n",
       "          0.,  2.,  0.,  0.,  1.,  1.,  3.]),\n",
       "  array([15.,  0.,  1.,  0.,  0.,  1.,  0.,  1.,  0.,  0.,  1.,  1.,  1.,\n",
       "          2.,  1.,  0.,  0.,  1.,  1.,  2.]),\n",
       "  array([17.,  0.,  1.,  0.,  1.,  0.,  0.,  1.,  0.,  1.,  0.,  0.,  0.,\n",
       "          2.,  0.,  0.,  0.,  1.,  2.,  2.]),\n",
       "  array([19.,  1.,  0.,  0.,  3.,  0.,  0.,  0.,  0.,  0.,  1.,  0.,  0.,\n",
       "          0.,  0.,  1.,  0.,  1.,  1.,  1.]),\n",
       "  array([21.,  0.,  1.,  1.,  0.,  0.,  0.,  0.,  0.,  0.,  1.,  0.,  1.,\n",
       "          0.,  0.,  0.,  0.,  2.,  0.,  1.]),\n",
       "  array([22.,  0.,  0.,  0.,  0.,  0.,  0.,  0.,  0.,  0.,  0.,  0.,  1.,\n",
       "          1.,  0.,  1.,  1.,  1.,  0.,  1.]),\n",
       "  array([22.,  0.,  0.,  0.,  0.,  0.,  0.,  0.,  0.,  0.,  1.,  0.,  0.,\n",
       "          1.,  1.,  1.,  0.,  0.,  0.,  2.]),\n",
       "  array([21.,  0.,  0.,  0.,  0.,  1.,  0.,  1.,  0.,  0.,  0.,  0.,  1.,\n",
       "          0.,  0.,  0.,  1.,  0.,  0.,  3.]),\n",
       "  array([16.,  0.,  1.,  1.,  0.,  1.,  0.,  2.,  0.,  0.,  0.,  0.,  0.,\n",
       "          0.,  0.,  1.,  1.,  0.,  2.,  3.]),\n",
       "  array([4., 0., 0., 0., 0., 0., 0., 1., 1., 0., 0., 2., 4., 3., 1., 0., 2.,\n",
       "         3., 3., 4.]),\n",
       "  array([5., 0., 1., 0., 0., 0., 0., 0., 1., 0., 0., 0., 0., 5., 3., 1., 1.,\n",
       "         5., 2., 4.]),\n",
       "  array([19.,  0.,  0.,  0.,  1.,  0.,  0.,  0.,  0.,  0.,  0.,  0.,  1.,\n",
       "          0.,  1.,  0.,  0.,  1.,  1.,  4.]),\n",
       "  array([24.,  0.,  0.,  1.,  0.,  1.,  0.,  0.,  1.,  1.,  0.,  0.,  0.,\n",
       "          0.,  0.,  0.,  0.,  0.,  0.,  0.])],\n",
       " array([  0.  ,  12.75,  25.5 ,  38.25,  51.  ,  63.75,  76.5 ,  89.25,\n",
       "        102.  , 114.75, 127.5 , 140.25, 153.  , 165.75, 178.5 , 191.25,\n",
       "        204.  , 216.75, 229.5 , 242.25, 255.  ]),\n",
       " <a list of 28 Lists of Patches objects>)"
      ]
     },
     "execution_count": 72,
     "metadata": {},
     "output_type": "execute_result"
    },
    {
     "data": {
      "text/plain": [
       "<matplotlib.text.Text at 0x1f088382c18>"
      ]
     },
     "execution_count": 72,
     "metadata": {},
     "output_type": "execute_result"
    },
    {
     "name": "stdout",
     "output_type": "stream",
     "text": [
      "Pixel histogram prior to feature scaling : 6 \n"
     ]
    },
    {
     "data": {
      "text/plain": [
       "([array([28.,  0.,  0.,  0.,  0.,  0.,  0.,  0.,  0.,  0.,  0.,  0.,  0.,\n",
       "          0.,  0.,  0.,  0.,  0.,  0.,  0.]),\n",
       "  array([28.,  0.,  0.,  0.,  0.,  0.,  0.,  0.,  0.,  0.,  0.,  0.,  0.,\n",
       "          0.,  0.,  0.,  0.,  0.,  0.,  0.]),\n",
       "  array([15.,  1.,  2.,  1.,  2.,  2.,  1.,  3.,  0.,  0.,  1.,  0.,  0.,\n",
       "          0.,  0.,  0.,  0.,  0.,  0.,  0.]),\n",
       "  array([ 7.,  0.,  0.,  1.,  0.,  0.,  0.,  0.,  0.,  1.,  0.,  0.,  1.,\n",
       "          0.,  0., 12.,  4.,  1.,  1.,  0.]),\n",
       "  array([ 6.,  0.,  0.,  0.,  0.,  0.,  0.,  0.,  0.,  0.,  0.,  0.,  1.,\n",
       "          0.,  6., 12.,  3.,  0.,  0.,  0.]),\n",
       "  array([1., 0., 0., 1., 1., 0., 1., 1., 2., 3., 0., 0., 2., 0., 5., 6., 5.,\n",
       "         0., 0., 0.]),\n",
       "  array([6., 2., 0., 0., 1., 0., 0., 1., 1., 0., 0., 1., 1., 1., 4., 5., 3.,\n",
       "         1., 1., 0.]),\n",
       "  array([ 1.,  0.,  0.,  0.,  0.,  0.,  0.,  0.,  0.,  0.,  0.,  0.,  0.,\n",
       "          0., 10.,  4.,  3.,  1.,  4.,  5.]),\n",
       "  array([ 0.,  0.,  0.,  1.,  0.,  0.,  0.,  0.,  0.,  0.,  0.,  0.,  0.,\n",
       "          1., 18.,  7.,  0.,  0.,  1.,  0.]),\n",
       "  array([ 0.,  0.,  0.,  0.,  0.,  0.,  0.,  0.,  0.,  1.,  0.,  0.,  0.,\n",
       "          1., 14., 11.,  1.,  0.,  0.,  0.]),\n",
       "  array([ 0.,  0.,  0.,  0.,  0.,  0.,  0.,  0.,  0.,  0.,  0.,  0.,  0.,\n",
       "          2., 22.,  3.,  0.,  1.,  0.,  0.]),\n",
       "  array([ 0.,  0.,  0.,  0.,  0.,  0.,  0.,  0.,  0.,  0.,  0.,  0.,  1.,\n",
       "          0., 19.,  7.,  1.,  0.,  0.,  0.]),\n",
       "  array([ 0.,  0.,  0.,  0.,  0.,  0.,  0.,  0.,  0.,  0.,  0.,  0.,  2.,\n",
       "          2., 15.,  9.,  0.,  0.,  0.,  0.]),\n",
       "  array([ 0.,  0.,  0.,  1.,  0.,  0.,  0.,  0.,  0.,  0.,  0.,  0.,  2.,\n",
       "          2., 21.,  2.,  0.,  0.,  0.,  0.]),\n",
       "  array([ 0.,  0.,  0.,  1.,  0.,  0.,  0.,  0.,  0.,  0.,  0.,  0.,  4.,\n",
       "          0., 19.,  3.,  1.,  0.,  0.,  0.]),\n",
       "  array([ 0.,  0.,  0.,  0.,  0.,  0.,  0.,  0.,  0.,  1.,  0.,  1.,  0.,\n",
       "          1., 20.,  4.,  1.,  0.,  0.,  0.]),\n",
       "  array([ 0.,  0.,  0.,  0.,  0.,  0.,  0.,  0.,  0.,  0.,  1.,  0.,  0.,\n",
       "          1., 21.,  3.,  2.,  0.,  0.,  0.]),\n",
       "  array([ 0.,  0.,  0.,  0.,  0.,  0.,  0.,  0.,  0.,  0.,  1.,  0.,  0.,\n",
       "          1., 21.,  3.,  1.,  0.,  1.,  0.]),\n",
       "  array([ 0.,  0.,  0.,  0.,  0.,  0.,  0.,  0.,  1.,  0.,  0.,  1.,  0.,\n",
       "          1., 20.,  3.,  2.,  0.,  0.,  0.]),\n",
       "  array([ 0.,  0.,  0.,  0.,  1.,  0.,  0.,  0.,  0.,  0.,  0.,  0.,  2.,\n",
       "          3., 18.,  1.,  1.,  1.,  0.,  1.]),\n",
       "  array([ 1.,  0.,  0.,  0.,  0.,  0.,  0.,  0.,  0.,  0.,  0.,  0.,  0.,\n",
       "          2., 13.,  2.,  4.,  1.,  5.,  0.]),\n",
       "  array([3., 0., 1., 1., 0., 0., 1., 1., 0., 1., 0., 1., 1., 2., 8., 6., 2.,\n",
       "         0., 0., 0.]),\n",
       "  array([1., 0., 0., 0., 0., 1., 1., 4., 2., 0., 3., 1., 0., 1., 8., 5., 1.,\n",
       "         0., 0., 0.]),\n",
       "  array([ 6.,  0.,  0.,  0.,  0.,  0.,  0.,  0.,  0.,  0.,  0.,  0.,  1.,\n",
       "          1.,  6., 10.,  1.,  3.,  0.,  0.]),\n",
       "  array([8., 0., 0., 0., 0., 0., 1., 0., 0., 0., 1., 0., 0., 0., 4., 6., 3.,\n",
       "         5., 0., 0.]),\n",
       "  array([13.,  1.,  2.,  0.,  2.,  1.,  0.,  2.,  1.,  3.,  2.,  0.,  1.,\n",
       "          0.,  0.,  0.,  0.,  0.,  0.,  0.]),\n",
       "  array([28.,  0.,  0.,  0.,  0.,  0.,  0.,  0.,  0.,  0.,  0.,  0.,  0.,\n",
       "          0.,  0.,  0.,  0.,  0.,  0.,  0.]),\n",
       "  array([28.,  0.,  0.,  0.,  0.,  0.,  0.,  0.,  0.,  0.,  0.,  0.,  0.,\n",
       "          0.,  0.,  0.,  0.,  0.,  0.,  0.])],\n",
       " array([  0.  ,  12.75,  25.5 ,  38.25,  51.  ,  63.75,  76.5 ,  89.25,\n",
       "        102.  , 114.75, 127.5 , 140.25, 153.  , 165.75, 178.5 , 191.25,\n",
       "        204.  , 216.75, 229.5 , 242.25, 255.  ]),\n",
       " <a list of 28 Lists of Patches objects>)"
      ]
     },
     "execution_count": 72,
     "metadata": {},
     "output_type": "execute_result"
    },
    {
     "data": {
      "text/plain": [
       "<matplotlib.text.Text at 0x1f088830cc0>"
      ]
     },
     "execution_count": 72,
     "metadata": {},
     "output_type": "execute_result"
    },
    {
     "name": "stdout",
     "output_type": "stream",
     "text": [
      "Pixel histogram prior to feature scaling : 7 \n"
     ]
    },
    {
     "data": {
      "text/plain": [
       "([array([24.,  1.,  1.,  0.,  0.,  0.,  0.,  0.,  0.,  0.,  0.,  0.,  1.,\n",
       "          1.,  0.,  0.,  0.,  0.,  0.,  0.]),\n",
       "  array([24.,  0.,  0.,  0.,  0.,  0.,  0.,  0.,  0.,  0.,  0.,  0.,  0.,\n",
       "          0.,  0.,  1.,  0.,  0.,  3.,  0.]),\n",
       "  array([22.,  0.,  0.,  1.,  0.,  0.,  0.,  0.,  0.,  1.,  0.,  0.,  0.,\n",
       "          1.,  0.,  1.,  1.,  0.,  1.,  0.]),\n",
       "  array([22.,  0.,  0.,  0.,  0.,  0.,  0.,  1.,  0.,  0.,  0.,  0.,  2.,\n",
       "          0.,  1.,  0.,  0.,  1.,  1.,  0.]),\n",
       "  array([22.,  0.,  0.,  0.,  0.,  0.,  1.,  0.,  0.,  0.,  0.,  2.,  0.,\n",
       "          0.,  0.,  0.,  1.,  1.,  1.,  0.]),\n",
       "  array([21.,  1.,  0.,  0.,  0.,  0.,  1.,  0.,  0.,  0.,  2.,  0.,  0.,\n",
       "          0.,  0.,  0.,  1.,  1.,  0.,  1.]),\n",
       "  array([21.,  0.,  0.,  0.,  0.,  1.,  0.,  0.,  1.,  1.,  1.,  0.,  0.,\n",
       "          0.,  0.,  1.,  0.,  1.,  0.,  1.]),\n",
       "  array([20.,  0.,  0.,  0.,  1.,  0.,  1.,  0.,  1.,  0.,  0.,  1.,  0.,\n",
       "          1.,  0.,  1.,  0.,  1.,  0.,  1.]),\n",
       "  array([20.,  0.,  0.,  0.,  0.,  0.,  0.,  0.,  0.,  0.,  0.,  2.,  0.,\n",
       "          2.,  0.,  0.,  1.,  1.,  0.,  2.]),\n",
       "  array([19.,  0.,  0.,  0.,  0.,  1.,  0.,  0.,  0.,  0.,  0.,  1.,  1.,\n",
       "          1.,  0.,  0.,  2.,  1.,  1.,  1.]),\n",
       "  array([19.,  0.,  0.,  0.,  0.,  0.,  0.,  0.,  0.,  0.,  1.,  0.,  1.,\n",
       "          1.,  0.,  0.,  1.,  2.,  3.,  0.]),\n",
       "  array([18.,  0.,  0.,  0.,  0.,  0.,  1.,  0.,  0.,  0.,  1.,  1.,  1.,\n",
       "          0.,  0.,  1.,  2.,  1.,  1.,  1.]),\n",
       "  array([18.,  0.,  0.,  0.,  0.,  0.,  0.,  0.,  0.,  0.,  0.,  0.,  3.,\n",
       "          0.,  0.,  0.,  2.,  3.,  2.,  0.]),\n",
       "  array([17.,  0.,  0.,  0.,  0.,  0.,  0.,  1.,  0.,  0.,  1.,  0.,  2.,\n",
       "          0.,  1.,  0.,  1.,  4.,  1.,  0.]),\n",
       "  array([16.,  0.,  0.,  0.,  0.,  0.,  1.,  0.,  0.,  0.,  0.,  0.,  2.,\n",
       "          1.,  1.,  1.,  2.,  2.,  2.,  0.]),\n",
       "  array([15.,  0.,  0.,  0.,  0.,  0.,  0.,  0.,  0.,  0.,  1.,  1.,  1.,\n",
       "          0.,  1.,  2.,  2.,  1.,  3.,  1.]),\n",
       "  array([13.,  1.,  0.,  0.,  0.,  0.,  0.,  0.,  0.,  0.,  0.,  1.,  2.,\n",
       "          0.,  1.,  2.,  2.,  3.,  2.,  1.]),\n",
       "  array([12.,  0.,  0.,  0.,  0.,  0.,  0.,  0.,  1.,  0.,  0.,  0.,  3.,\n",
       "          1.,  1.,  1.,  1.,  6.,  1.,  1.]),\n",
       "  array([12.,  0.,  0.,  0.,  1.,  0.,  0.,  0.,  0.,  0.,  0.,  1.,  2.,\n",
       "          0.,  1.,  0.,  2.,  6.,  3.,  0.]),\n",
       "  array([13.,  1.,  0.,  0.,  0.,  0.,  0.,  0.,  0.,  0.,  0.,  1.,  3.,\n",
       "          1.,  0.,  0.,  1.,  2.,  6.,  0.]),\n",
       "  array([14.,  0.,  0.,  0.,  0.,  0.,  0.,  1.,  0.,  0.,  0.,  1.,  2.,\n",
       "          0.,  2.,  0.,  2.,  3.,  3.,  0.]),\n",
       "  array([15.,  0.,  0.,  0.,  0.,  0.,  0.,  0.,  0.,  0.,  0.,  1.,  3.,\n",
       "          1.,  2.,  1.,  0.,  3.,  2.,  0.]),\n",
       "  array([15.,  0.,  0.,  0.,  0.,  0.,  0.,  0.,  0.,  0.,  1.,  2.,  3.,\n",
       "          1.,  0.,  1.,  1.,  2.,  0.,  2.]),\n",
       "  array([15.,  0.,  0.,  0.,  0.,  0.,  0.,  0.,  0.,  1.,  0.,  2.,  5.,\n",
       "          0.,  1.,  1.,  0.,  1.,  1.,  1.]),\n",
       "  array([15.,  0.,  0.,  0.,  0.,  0.,  0.,  0.,  0.,  0.,  2.,  3.,  2.,\n",
       "          1.,  0.,  2.,  1.,  1.,  1.,  0.]),\n",
       "  array([15.,  0.,  0.,  0.,  0.,  0.,  0.,  0.,  0.,  0.,  1.,  2.,  1.,\n",
       "          3.,  1.,  2.,  1.,  2.,  0.,  0.]),\n",
       "  array([14.,  0.,  0.,  1.,  0.,  0.,  0.,  0.,  1.,  0.,  0.,  2.,  2.,\n",
       "          3.,  1.,  0.,  0.,  1.,  1.,  2.]),\n",
       "  array([23.,  0.,  1.,  0.,  1.,  3.,  0.,  0.,  0.,  0.,  0.,  0.,  0.,\n",
       "          0.,  0.,  0.,  0.,  0.,  0.,  0.])],\n",
       " array([  0.  ,  12.75,  25.5 ,  38.25,  51.  ,  63.75,  76.5 ,  89.25,\n",
       "        102.  , 114.75, 127.5 , 140.25, 153.  , 165.75, 178.5 , 191.25,\n",
       "        204.  , 216.75, 229.5 , 242.25, 255.  ]),\n",
       " <a list of 28 Lists of Patches objects>)"
      ]
     },
     "execution_count": 72,
     "metadata": {},
     "output_type": "execute_result"
    },
    {
     "data": {
      "text/plain": [
       "<matplotlib.text.Text at 0x1f0874800b8>"
      ]
     },
     "execution_count": 72,
     "metadata": {},
     "output_type": "execute_result"
    },
    {
     "name": "stdout",
     "output_type": "stream",
     "text": [
      "Pixel histogram prior to feature scaling : 8 \n"
     ]
    },
    {
     "data": {
      "text/plain": [
       "([array([25.,  0.,  0.,  0.,  0.,  1.,  1.,  0.,  1.,  0.,  0.,  0.,  0.,\n",
       "          0.,  0.,  0.,  0.,  0.,  0.,  0.]),\n",
       "  array([18.,  0.,  0.,  0.,  1.,  1.,  0.,  0.,  0.,  0.,  1.,  0.,  0.,\n",
       "          0.,  0.,  0.,  0.,  0.,  1.,  6.]),\n",
       "  array([15.,  3.,  0.,  0.,  0.,  1.,  0.,  1.,  0.,  0.,  2.,  0.,  0.,\n",
       "          1.,  0.,  0.,  1.,  0.,  2.,  2.]),\n",
       "  array([15.,  0.,  0.,  1.,  0.,  0.,  0.,  0.,  0.,  0.,  0.,  1.,  0.,\n",
       "          0.,  1.,  4.,  1.,  0.,  0.,  5.]),\n",
       "  array([5., 0., 1., 0., 1., 0., 0., 0., 0., 0., 1., 1., 4., 0., 2., 0., 3.,\n",
       "         3., 3., 4.]),\n",
       "  array([5., 0., 0., 0., 0., 1., 0., 0., 0., 1., 0., 0., 3., 3., 1., 3., 1.,\n",
       "         4., 2., 4.]),\n",
       "  array([5., 0., 0., 0., 0., 0., 0., 0., 1., 1., 1., 1., 0., 2., 1., 2., 1.,\n",
       "         3., 2., 8.]),\n",
       "  array([ 5.,  0.,  0.,  0.,  0.,  0.,  0.,  0.,  0.,  1.,  1.,  1.,  2.,\n",
       "          0.,  1.,  0.,  4.,  1.,  2., 10.]),\n",
       "  array([5., 0., 0., 0., 0., 0., 0., 0., 0., 1., 1., 1., 1., 1., 2., 2., 3.,\n",
       "         2., 2., 7.]),\n",
       "  array([5., 0., 0., 0., 0., 0., 0., 0., 0., 1., 2., 1., 2., 0., 2., 2., 3.,\n",
       "         1., 2., 7.]),\n",
       "  array([5., 0., 0., 0., 0., 0., 0., 0., 0., 0., 1., 2., 0., 3., 1., 3., 2.,\n",
       "         2., 1., 8.]),\n",
       "  array([5., 0., 0., 0., 0., 0., 1., 0., 0., 0., 2., 1., 2., 0., 2., 3., 1.,\n",
       "         0., 3., 8.]),\n",
       "  array([8., 0., 0., 0., 0., 0., 0., 0., 0., 0., 1., 0., 4., 0., 1., 3., 0.,\n",
       "         3., 1., 7.]),\n",
       "  array([8., 0., 0., 0., 0., 0., 0., 0., 1., 1., 0., 0., 3., 3., 0., 3., 2.,\n",
       "         1., 2., 4.]),\n",
       "  array([8., 0., 1., 0., 0., 0., 0., 0., 1., 0., 1., 3., 1., 0., 1., 2., 0.,\n",
       "         1., 5., 4.]),\n",
       "  array([8., 1., 0., 0., 0., 0., 0., 1., 0., 0., 1., 3., 1., 1., 0., 2., 1.,\n",
       "         2., 4., 3.]),\n",
       "  array([8., 0., 0., 0., 0., 0., 0., 0., 2., 0., 0., 1., 2., 2., 3., 1., 1.,\n",
       "         1., 4., 3.]),\n",
       "  array([8., 0., 0., 0., 0., 0., 0., 0., 0., 0., 1., 1., 1., 2., 3., 1., 1.,\n",
       "         2., 4., 4.]),\n",
       "  array([8., 0., 0., 0., 0., 0., 0., 0., 0., 0., 1., 0., 1., 3., 3., 1., 4.,\n",
       "         1., 2., 4.]),\n",
       "  array([8., 0., 0., 0., 0., 0., 0., 0., 0., 0., 1., 0., 1., 2., 4., 1., 4.,\n",
       "         1., 2., 4.]),\n",
       "  array([8., 0., 0., 0., 0., 0., 0., 0., 0., 1., 0., 1., 0., 0., 6., 1., 4.,\n",
       "         1., 3., 3.]),\n",
       "  array([8., 0., 0., 0., 0., 0., 0., 1., 0., 0., 0., 0., 1., 4., 1., 2., 2.,\n",
       "         2., 5., 2.]),\n",
       "  array([8., 0., 0., 0., 0., 0., 0., 1., 0., 0., 0., 0., 1., 2., 2., 1., 3.,\n",
       "         4., 3., 3.]),\n",
       "  array([8., 0., 0., 0., 0., 0., 0., 1., 0., 0., 1., 0., 0., 2., 3., 4., 4.,\n",
       "         4., 0., 1.]),\n",
       "  array([8., 0., 0., 0., 0., 0., 0., 0., 0., 1., 1., 1., 0., 1., 2., 4., 0.,\n",
       "         9., 1., 0.]),\n",
       "  array([9., 0., 0., 0., 0., 0., 0., 0., 0., 1., 0., 0., 0., 1., 4., 4., 5.,\n",
       "         3., 1., 0.]),\n",
       "  array([16.,  1.,  0.,  0.,  2.,  0.,  0.,  0.,  0.,  0.,  0.,  0.,  1.,\n",
       "          0.,  1.,  1.,  1.,  0.,  0.,  5.]),\n",
       "  array([25.,  0.,  1.,  0.,  1.,  0.,  0.,  0.,  0.,  0.,  0.,  1.,  0.,\n",
       "          0.,  0.,  0.,  0.,  0.,  0.,  0.])],\n",
       " array([  0.  ,  12.75,  25.5 ,  38.25,  51.  ,  63.75,  76.5 ,  89.25,\n",
       "        102.  , 114.75, 127.5 , 140.25, 153.  , 165.75, 178.5 , 191.25,\n",
       "        204.  , 216.75, 229.5 , 242.25, 255.  ]),\n",
       " <a list of 28 Lists of Patches objects>)"
      ]
     },
     "execution_count": 72,
     "metadata": {},
     "output_type": "execute_result"
    },
    {
     "data": {
      "text/plain": [
       "<matplotlib.text.Text at 0x1f087103400>"
      ]
     },
     "execution_count": 72,
     "metadata": {},
     "output_type": "execute_result"
    },
    {
     "name": "stdout",
     "output_type": "stream",
     "text": [
      "Pixel histogram prior to feature scaling : 9 \n"
     ]
    },
    {
     "data": {
      "text/plain": [
       "([array([26.,  1.,  0.,  0.,  0.,  0.,  0.,  0.,  0.,  0.,  0.,  1.,  0.,\n",
       "          0.,  0.,  0.,  0.,  0.,  0.,  0.]),\n",
       "  array([24.,  0.,  0.,  1.,  0.,  0.,  0.,  0.,  2.,  0.,  0.,  0.,  0.,\n",
       "          0.,  0.,  0.,  0.,  1.,  0.,  0.]),\n",
       "  array([24.,  0.,  0.,  0.,  0.,  0.,  0.,  1.,  0.,  1.,  0.,  0.,  0.,\n",
       "          0.,  2.,  0.,  0.,  0.,  0.,  0.]),\n",
       "  array([23.,  1.,  0.,  0.,  0.,  0.,  0.,  0.,  0.,  1.,  0.,  1.,  0.,\n",
       "          1.,  0.,  0.,  0.,  1.,  0.,  0.]),\n",
       "  array([22.,  0.,  0.,  1.,  0.,  0.,  0.,  1.,  0.,  0.,  1.,  1.,  0.,\n",
       "          1.,  0.,  0.,  0.,  1.,  0.,  0.]),\n",
       "  array([22.,  0.,  0.,  0.,  0.,  0.,  1.,  0.,  0.,  1.,  0.,  1.,  1.,\n",
       "          1.,  0.,  0.,  1.,  0.,  0.,  0.]),\n",
       "  array([22.,  0.,  0.,  0.,  0.,  0.,  0.,  0.,  0.,  1.,  2.,  0.,  1.,\n",
       "          0.,  0.,  0.,  2.,  0.,  0.,  0.]),\n",
       "  array([21.,  0.,  1.,  0.,  0.,  0.,  0.,  0.,  0.,  1.,  0.,  3.,  0.,\n",
       "          0.,  1.,  0.,  0.,  0.,  1.,  0.]),\n",
       "  array([21.,  0.,  0.,  0.,  0.,  0.,  0.,  0.,  0.,  1.,  2.,  1.,  0.,\n",
       "          1.,  1.,  0.,  0.,  0.,  0.,  1.]),\n",
       "  array([20.,  0.,  0.,  0.,  0.,  0.,  0.,  0.,  0.,  2.,  1.,  0.,  1.,\n",
       "          3.,  0.,  0.,  1.,  0.,  0.,  0.]),\n",
       "  array([18.,  1.,  0.,  0.,  0.,  0.,  0.,  0.,  0.,  0.,  2.,  1.,  1.,\n",
       "          4.,  0.,  0.,  1.,  0.,  0.,  0.]),\n",
       "  array([17.,  0.,  0.,  0.,  1.,  0.,  0.,  0.,  0.,  0.,  1.,  2.,  2.,\n",
       "          2.,  2.,  0.,  0.,  0.,  0.,  1.]),\n",
       "  array([15.,  0.,  0.,  0.,  1.,  0.,  0.,  0.,  0.,  0.,  1.,  3.,  2.,\n",
       "          3.,  1.,  1.,  1.,  0.,  0.,  0.]),\n",
       "  array([10.,  0.,  1.,  1.,  1.,  0.,  1.,  0.,  1.,  0.,  0.,  0.,  8.,\n",
       "          2.,  2.,  0.,  0.,  1.,  0.,  0.]),\n",
       "  array([11.,  0.,  0.,  0.,  0.,  0.,  0.,  0.,  1.,  0.,  0.,  2.,  5.,\n",
       "          2.,  4.,  2.,  0.,  1.,  0.,  0.]),\n",
       "  array([11.,  0.,  0.,  0.,  0.,  0.,  1.,  0.,  1.,  0.,  0.,  1.,  5.,\n",
       "          6.,  0.,  2.,  1.,  0.,  0.,  0.]),\n",
       "  array([12.,  0.,  0.,  0.,  0.,  0.,  0.,  0.,  0.,  0.,  1.,  2.,  5.,\n",
       "          4.,  3.,  0.,  1.,  0.,  0.,  0.]),\n",
       "  array([12.,  0.,  0.,  1.,  0.,  0.,  0.,  0.,  0.,  0.,  1.,  1.,  2.,\n",
       "          6.,  4.,  0.,  0.,  0.,  0.,  1.]),\n",
       "  array([13.,  0.,  0.,  0.,  0.,  0.,  0.,  0.,  0.,  0.,  0.,  0.,  4.,\n",
       "          6.,  3.,  1.,  1.,  0.,  0.,  0.]),\n",
       "  array([11.,  2.,  0.,  0.,  1.,  0.,  0.,  0.,  0.,  0.,  0.,  0.,  3.,\n",
       "          4.,  6.,  0.,  1.,  0.,  0.,  0.]),\n",
       "  array([10.,  0.,  0.,  0.,  0.,  0.,  0.,  0.,  0.,  0.,  0.,  0.,  2.,\n",
       "          5.,  6.,  2.,  0.,  1.,  1.,  1.]),\n",
       "  array([10.,  0.,  0.,  0.,  0.,  0.,  0.,  0.,  0.,  0.,  0.,  0.,  1.,\n",
       "          5., 11.,  1.,  0.,  0.,  0.,  0.]),\n",
       "  array([10.,  0.,  0.,  0.,  0.,  0.,  0.,  0.,  0.,  0.,  0.,  0.,  2.,\n",
       "          6.,  9.,  0.,  0.,  1.,  0.,  0.]),\n",
       "  array([10.,  0.,  0.,  0.,  0.,  0.,  0.,  0.,  0.,  0.,  0.,  0.,  3.,\n",
       "         10.,  4.,  0.,  0.,  1.,  0.,  0.]),\n",
       "  array([10.,  0.,  0.,  0.,  0.,  0.,  0.,  0.,  0.,  0.,  0.,  0.,  3.,\n",
       "          8.,  5.,  0.,  0.,  2.,  0.,  0.]),\n",
       "  array([10.,  0.,  0.,  0.,  0.,  1.,  0.,  0.,  2.,  0.,  0.,  1.,  3.,\n",
       "          3.,  7.,  1.,  0.,  0.,  0.,  0.]),\n",
       "  array([15.,  0.,  1.,  0.,  0.,  0.,  0.,  0.,  0.,  1.,  0.,  0.,  0.,\n",
       "          2.,  6.,  3.,  0.,  0.,  0.,  0.]),\n",
       "  array([20.,  4.,  1.,  1.,  0.,  2.,  0.,  0.,  0.,  0.,  0.,  0.,  0.,\n",
       "          0.,  0.,  0.,  0.,  0.,  0.,  0.])],\n",
       " array([  0.  ,  12.75,  25.5 ,  38.25,  51.  ,  63.75,  76.5 ,  89.25,\n",
       "        102.  , 114.75, 127.5 , 140.25, 153.  , 165.75, 178.5 , 191.25,\n",
       "        204.  , 216.75, 229.5 , 242.25, 255.  ]),\n",
       " <a list of 28 Lists of Patches objects>)"
      ]
     },
     "execution_count": 72,
     "metadata": {},
     "output_type": "execute_result"
    },
    {
     "data": {
      "text/plain": [
       "<matplotlib.text.Text at 0x1f087110128>"
      ]
     },
     "execution_count": 72,
     "metadata": {},
     "output_type": "execute_result"
    },
    {
     "data": {
      "text/plain": [
       "<function matplotlib.pyplot.tight_layout>"
      ]
     },
     "execution_count": 72,
     "metadata": {},
     "output_type": "execute_result"
    },
    {
     "data": {
      "image/png": "[encoded data removed]",
      "text/plain": [
       "<matplotlib.figure.Figure at 0x1f085d071d0>"
      ]
     },
     "metadata": {},
     "output_type": "display_data"
    }
   ],
   "source": [
    "get_class_data = np.vectorize(lambda arr: label==i )\n",
    "\n",
    "fig, a = plt.subplots(5,2, sharex='row', sharey='col')\n",
    "fig.set_size_inches(20,25)\n",
    "fig.subplots_adjust(hspace = 0.3, wspace = 0.1)\n",
    "fig.suptitle('Pixel value - Histogram and distribution', fontsize = 16)\n",
    "\n",
    "classes = np.unique(label)\n",
    "a = a.ravel()\n",
    "        \n",
    "for i,ax in enumerate(a):\n",
    "    print(\"Pixel histogram prior to feature scaling : {} \".format(classes[i],i))\n",
    "    #print(i)\n",
    "\n",
    "    #ax=[]\n",
    "    d = data[get_class_data(i)]\n",
    "    ax.hist(d[i], bins = 20)\n",
    "    ax.set_title(i, fontsize = 16)    \n",
    "        \n",
    "    \n",
    "plt.tight_layout    \n",
    "plt.savefig(\"PixelHist_Distiribution.png\", dpi = 300)\n",
    "        \n",
    "        \n",
    "        \n"
   ]
  },
  {
   "cell_type": "markdown",
   "metadata": {},
   "source": [
    "## For reference: https://github.com/zalandoresearch/fashion-mnist"
   ]
  },
  {
   "cell_type": "markdown",
   "metadata": {},
   "source": [
    "\n",
    "\n",
    "| Label | Description   |\n",
    "|------|------|\n",
    "|   0  | T-shirt/top|\n",
    "|   1  | Trouser|\n",
    "|   2  | Pullover|\n",
    "|   3  | Dress|\n",
    "|   4  | Coat|\n",
    "|   5  | Sandal|\n",
    "|   6  | Shirt|\n",
    "|   7  | Sneaker|\n",
    "|   8  | Bag|\n",
    "|   9  | Ankle boot|"
   ]
  },
  {
   "cell_type": "code",
   "execution_count": null,
   "metadata": {
    "collapsed": false
   },
   "outputs": [],
   "source": [
    "############IGNORE########################################################\n",
    "############IGNORE########################################################\n",
    "############IGNORE########################################################\n",
    "\n",
    "data, label, data_test, label_test = read_data_in(desktop_or_laptop='d')\n",
    "\n",
    "train_data = data[:30000]\n",
    "\n",
    "X_train = train_data.reshape(-1, 784)\n",
    "\n",
    "\n",
    "#def is_symmetric(X, tolerance = 1e-9):\n",
    "#    return(np.allclose(X,X.T, atol=tolerance))\n",
    "\n",
    "\n",
    " #= data.reshape[-1,784]\n",
    "#is_sparse(X_train,X_train.shape[0],X_train.shape[1])\n",
    "#X.shape\n",
    "#scpy.sparse.isspmatrix(train_data)\n",
    "\n",
    "#X_train.shape\n",
    "#data.reshape[-1,784]\n",
    "#data[3]"
   ]
  },
  {
   "cell_type": "code",
   "execution_count": null,
   "metadata": {
    "collapsed": true
   },
   "outputs": [],
   "source": [
    "############IGNORE########################################################\n",
    "############IGNORE########################################################\n",
    "############IGNORE########################################################\n",
    "i = 10\n",
    "#show_image(data[i],label[i])\n",
    "\n",
    "#print('Total training data shape : ', data.shape, label.shape)\n",
    "#data_train = data_train / 255\n",
    "\n",
    "\n",
    "_, axarr = plt.subplots(10,10,figsize=(10,10))\n",
    "\n",
    "for i in range(10):\n",
    "    for j in range(10):\n",
    "       data[np.random.randint(data.shape[0])] \n",
    "       axarr[i,j].axis('off')     \n"
   ]
  },
  {
   "cell_type": "markdown",
   "metadata": {},
   "source": [
    "# Time to train and preduct using LogisticRegression - One vs Rest!"
   ]
  },
  {
   "cell_type": "code",
   "execution_count": 6,
   "metadata": {
    "collapsed": false
   },
   "outputs": [
    {
     "name": "stdout",
     "output_type": "stream",
     "text": [
      "Pixel histogram prior to feature scaling : \n",
      "0\n"
     ]
    },
    {
     "data": {
      "image/png": "[encoded data removed]",
      "text/plain": [
       "<matplotlib.figure.Figure at 0x202522a1320>"
      ]
     },
     "metadata": {},
     "output_type": "display_data"
    },
    {
     "name": "stdout",
     "output_type": "stream",
     "text": [
      "Pixel histogram prior to feature scaling : \n",
      "1\n"
     ]
    },
    {
     "data": {
      "image/png": "[encoded data removed]",
      "text/plain": [
       "<matplotlib.figure.Figure at 0x202522d5b38>"
      ]
     },
     "metadata": {},
     "output_type": "display_data"
    },
    {
     "name": "stdout",
     "output_type": "stream",
     "text": [
      "Pixel histogram prior to feature scaling : \n",
      "2\n"
     ]
    },
    {
     "data": {
      "image/png": "[encoded data removed]",
      "text/plain": [
       "<matplotlib.figure.Figure at 0x202526aceb8>"
      ]
     },
     "metadata": {},
     "output_type": "display_data"
    },
    {
     "name": "stdout",
     "output_type": "stream",
     "text": [
      "Pixel histogram prior to feature scaling : \n",
      "3\n"
     ]
    },
    {
     "data": {
      "image/png": "[encoded data removed]",
      "text/plain": [
       "<matplotlib.figure.Figure at 0x202522c4c88>"
      ]
     },
     "metadata": {},
     "output_type": "display_data"
    },
    {
     "name": "stdout",
     "output_type": "stream",
     "text": [
      "Pixel histogram prior to feature scaling : \n",
      "4\n"
     ]
    },
    {
     "data": {
      "image/png": "[encoded data removed]",
      "text/plain": [
       "<matplotlib.figure.Figure at 0x202526999b0>"
      ]
     },
     "metadata": {},
     "output_type": "display_data"
    },
    {
     "name": "stdout",
     "output_type": "stream",
     "text": [
      "Pixel histogram prior to feature scaling : \n",
      "5\n"
     ]
    },
    {
     "data": {
      "image/png": "[encoded data removed]",
      "text/plain": [
       "<matplotlib.figure.Figure at 0x202523229e8>"
      ]
     },
     "metadata": {},
     "output_type": "display_data"
    },
    {
     "name": "stdout",
     "output_type": "stream",
     "text": [
      "Pixel histogram prior to feature scaling : \n",
      "6\n"
     ]
    },
    {
     "data": {
      "image/png": "[encoded data removed]",
      "text/plain": [
       "<matplotlib.figure.Figure at 0x20252699710>"
      ]
     },
     "metadata": {},
     "output_type": "display_data"
    },
    {
     "name": "stdout",
     "output_type": "stream",
     "text": [
      "Pixel histogram prior to feature scaling : \n",
      "7\n"
     ]
    },
    {
     "data": {
      "image/png": "[encoded data removed]",
      "text/plain": [
       "<matplotlib.figure.Figure at 0x20252c329b0>"
      ]
     },
     "metadata": {},
     "output_type": "display_data"
    },
    {
     "name": "stdout",
     "output_type": "stream",
     "text": [
      "Pixel histogram prior to feature scaling : \n",
      "8\n"
     ]
    },
    {
     "data": {
      "image/png": "[encoded data removed]",
      "text/plain": [
       "<matplotlib.figure.Figure at 0x20252c69e48>"
      ]
     },
     "metadata": {},
     "output_type": "display_data"
    },
    {
     "name": "stdout",
     "output_type": "stream",
     "text": [
      "Pixel histogram prior to feature scaling : \n",
      "9\n"
     ]
    },
    {
     "data": {
      "image/png": "[encoded data removed]",
      "text/plain": [
       "<matplotlib.figure.Figure at 0x20252c69c50>"
      ]
     },
     "metadata": {},
     "output_type": "display_data"
    },
    {
     "name": "stderr",
     "output_type": "stream",
     "text": [
      "C:\\Users\\New\\Anaconda3\\lib\\site-packages\\ipykernel\\__main__.py:171: RuntimeWarning: invalid value encountered in true_divide\n"
     ]
    },
    {
     "name": "stdout",
     "output_type": "stream",
     "text": [
      "Total number of records in X train: 29700\n",
      "Total number of records in y train: 29700\n",
      "Total number of features in X train: 784\n",
      "Total number of records in X train (valdation set): 300\n",
      "Total number of features in X train (validation set): 784\n",
      "Total number of records in X test: 5000\n",
      "Total number of features in X test: 784\n",
      "#################################################\n",
      "Logistic Regression model initialised with Max iterations = 500, K (classes) = 10, lmbda (Regularisation parameter) =1\n",
      "#################################################\n",
      "                                            \n",
      "############################################\n",
      "### Gradient Descent Optimisation beginning\n",
      "############################################\n",
      "Class 0 being optimised\n",
      "Optimization terminated successfully.\n",
      "         Current function value: 0.101262\n",
      "         Iterations: 30\n",
      "         Function evaluations: 65\n",
      "         Gradient evaluations: 65\n",
      "Class 1 being optimised\n",
      "Optimization terminated successfully.\n",
      "         Current function value: 0.021304\n",
      "         Iterations: 20\n",
      "         Function evaluations: 45\n",
      "         Gradient evaluations: 45\n",
      "Class 2 being optimised\n",
      "Optimization terminated successfully.\n",
      "         Current function value: 0.132361\n",
      "         Iterations: 60\n",
      "         Function evaluations: 124\n",
      "         Gradient evaluations: 124\n",
      "Class 3 being optimised\n",
      "Optimization terminated successfully.\n",
      "         Current function value: 0.083403\n",
      "         Iterations: 25\n",
      "         Function evaluations: 55\n",
      "         Gradient evaluations: 55\n",
      "Class 4 being optimised\n",
      "Optimization terminated successfully.\n",
      "         Current function value: 0.119090\n",
      "         Iterations: 56\n",
      "         Function evaluations: 122\n",
      "         Gradient evaluations: 122\n",
      "Class 5 being optimised\n",
      "Optimization terminated successfully.\n",
      "         Current function value: 0.046474\n",
      "         Iterations: 29\n",
      "         Function evaluations: 59\n",
      "         Gradient evaluations: 59\n",
      "Class 6 being optimised\n",
      "Optimization terminated successfully.\n",
      "         Current function value: 0.173625\n",
      "         Iterations: 48\n",
      "         Function evaluations: 95\n",
      "         Gradient evaluations: 95\n",
      "Class 7 being optimised\n",
      "Optimization terminated successfully.\n",
      "         Current function value: 0.054991\n",
      "         Iterations: 22\n",
      "         Function evaluations: 43\n",
      "         Gradient evaluations: 43\n",
      "Class 8 being optimised\n",
      "Optimization terminated successfully.\n",
      "         Current function value: 0.044944\n",
      "         Iterations: 29\n",
      "         Function evaluations: 63\n",
      "         Gradient evaluations: 63\n",
      "Class 9 being optimised\n",
      "Optimization terminated successfully.\n",
      "         Current function value: 0.034726\n",
      "         Iterations: 40\n",
      "         Function evaluations: 77\n",
      "         Gradient evaluations: 77\n",
      "###########################################\n",
      "### Gradient Descent Optimisation finished\n",
      "###########################################\n",
      "Probability averages on train: ,85.88552188552188\n",
      "Probability averages on test: ,84.25\n",
      "Wall time: 24.7 s\n"
     ]
    }
   ],
   "source": [
    "%%time\n",
    "\n",
    "# Hyper-parameter tuning - uncomment the first value if you want to loop\n",
    "#lambda_values = [0.1, 0.5, 1, 1.5, 2, 2.5, 3]\n",
    "lambda_values = [1]\n",
    "\n",
    "prediction_average_list = []\n",
    "prediction_average_test_list = []    \n",
    "\n",
    "for i in lambda_values:\n",
    "\n",
    "    # Read the source files in\n",
    "    # Ben/Stef - You'll need to change this\n",
    "    data, label, data_test, label_test = read_data_in(desktop_or_laptop='d')\n",
    "\n",
    "    # Declare variables for instantiation of the LogisticRegression Class\n",
    "    #lmbda = 2.5\n",
    "    k = 10\n",
    "    intercept = True\n",
    "    max_iter = 500\n",
    "\n",
    "    # THIS IS A HACK, NOT SURE WHY TEST DATA ISN'T BEING READ IN PROPERLY CURRENTLY\n",
    "    data_test = data_test[:2000]\n",
    "\n",
    "    #########################################################################################\n",
    "    # Once data is read in from file data, we split it for training, validation and testing #\n",
    "    # standardise, & re-shape it process                                                    #\n",
    "    #########################################################################################\n",
    "        \n",
    "    X_train,X_validate,X_test,y_train,y_validate,y_test = shape_matrix_process(split_percent=0.99)\n",
    "    X_test = X_test[:2000]\n",
    "\n",
    "\n",
    "    ############################################\n",
    "    # Instantiate our logistic Regression model#\n",
    "    ############################################\n",
    "    print('#################################################')\n",
    "    model = LogisticRegression(max_iter, intercept, k, i)\n",
    "    print('#################################################')\n",
    "\n",
    "    # Carry out principal component analysis and project back with 99% of variance\n",
    "    #X_train, X_reduced  = compress_project(percent=.99,data_to_compress=X_train)\n",
    "\n",
    "    # Add the intercept value\n",
    "    X_train,n = model.add_intercept(X_train,y_train)\n",
    "\n",
    "    # Create a theta matrix to capture values of theta when we minimis the objective function below\n",
    "    theta = np.zeros((k,n)) #inital parameters\n",
    "\n",
    "    #############################################################################################\n",
    "    # Using conjugate gradient, we attempt to carry out optimisation to find theta and therefore#\n",
    "    # Using theta and the data features to predict each class   #################################\n",
    "    #############################################################################################\n",
    "    \n",
    "    # Do you want to see a verbose/full output for conjugate gradient descent?\n",
    "    \n",
    "    #theta = model.fit(X_mat=X_train,max_iter=500,y_mat=y_train,n=n, full_outp=False)\n",
    "    \n",
    "    \n",
    "    #theta, fopt, func_calls, grad_calls,warnflag  = model.fit(X_mat=X_train,max_iter=500,y_mat=y_train,n=n, full_outp=False)\n",
    "    theta  = model.fit(X_mat=X_train,max_iter=500,y_mat=y_train,n=n, full_outp=False)\n",
    "            \n",
    "    #######################################################################################\n",
    "    # Carry out the predictions based on the trained model and then carry out predictions #\n",
    "    # on the unseen test data                                                             #\n",
    "    #######################################################################################\n",
    "    X_test,n = model.add_intercept(X_test,y_test)\n",
    "\n",
    "    \n",
    "    preds, prediction_average = model.predict(X=X_train,y=y_train,theta=theta)\n",
    "    prediction_average_list.append(prediction_average)\n",
    "    \n",
    "    \n",
    "    \n",
    "    preds_test,prediction_average_test = model.predict(X_test,y_test,theta=theta)    \n",
    "    prediction_average_test_list.append(prediction_average_test)\n",
    "    \n",
    "print(\"Probability averages on train: \",*prediction_average_list, sep =',')\n",
    "print(\"Probability averages on test: \",*prediction_average_test_list, sep =',')"
   ]
  },
  {
   "cell_type": "code",
   "execution_count": null,
   "metadata": {
    "collapsed": true
   },
   "outputs": [],
   "source": [
    "print(pred_test)\n",
    "print(y_test)"
   ]
  },
  {
   "cell_type": "code",
   "execution_count": null,
   "metadata": {
    "collapsed": false
   },
   "outputs": [],
   "source": [
    "import matplotlib.pyplot as plt\n",
    "import seaborn as sns\n",
    "from sklearn import metrics\n",
    "\n",
    "cm = metrics.confusion_matrix(y_test, preds_test)\n",
    "#cm = metrics.confusion_matrix(y_train, preds)\n",
    "\n",
    "\n",
    "from sklearn.metrics import classification_report\n",
    "print(classification_report(y_test, preds_test))\n",
    "\n",
    "#print(classification_report(y_train, preds_train))\n"
   ]
  },
  {
   "cell_type": "code",
   "execution_count": 35,
   "metadata": {
    "collapsed": false
   },
   "outputs": [],
   "source": [
    "def create_confusion_matrix(actual, preds):\n",
    "    \n",
    "  classes = len(np.unique(actual)) # Number of classes \n",
    "  \n",
    "  cm = np.zeros((classes, classes))\n",
    "\n",
    "  for i in range(len(actual)):\n",
    "    cm[actual[i]][preds[i]] += 1\n",
    "    \n",
    "  return(cm)"
   ]
  },
  {
   "cell_type": "code",
   "execution_count": 39,
   "metadata": {
    "collapsed": false
   },
   "outputs": [
    {
     "data": {
      "text/plain": [
       "<matplotlib.text.Text at 0x20252603588>"
      ]
     },
     "execution_count": 39,
     "metadata": {},
     "output_type": "execute_result"
    },
    {
     "data": {
      "text/plain": [
       "<matplotlib.text.Text at 0x20252616f60>"
      ]
     },
     "execution_count": 39,
     "metadata": {},
     "output_type": "execute_result"
    },
    {
     "data": {
      "text/plain": [
       "<matplotlib.text.Text at 0x2025282bda0>"
      ]
     },
     "execution_count": 39,
     "metadata": {},
     "output_type": "execute_result"
    },
    {
     "data": {
      "image/png": "[encoded data removed]",
      "text/plain": [
       "<matplotlib.figure.Figure at 0x20252817c50>"
      ]
     },
     "metadata": {},
     "output_type": "display_data"
    }
   ],
   "source": [
    "\n",
    "#cm = create_confusion_matrix(y_train, pred_train)\n",
    "cm = create_confusion_matrix(y_test, pred_test)\n",
    "\n",
    "fig, ax = plt.subplots()\n",
    "fig.set_size_inches(8,8)\n",
    "\n",
    "im = ax.imshow(cm, cmap='Oranges')\n",
    "\n",
    "# Take the confusion matrix array, and make it pretty with colours and text :)\n",
    "\n",
    "# A loop to go through every class and plot value for each, with respective colour on the Yellow Green matplotlib colour scale\n",
    "for i in range(len(np.unique(y_test))):\n",
    "    for j in range(len(np.unique(y_test))):\n",
    "        text = ax.text(j, i, cm[i, j],\n",
    "                       ha=\"center\", va=\"center\", color=\"k\")\n",
    "#plt.title(\"Confusion matrix - Train Dataset\", fontsize = 16)        \n",
    "plt.title(\"Confusion matrix - Test Dataset\", fontsize = 16)        \n",
    "\n",
    "plt.savefig(\"ConfusionMatrix_Train.png\", dpi = 300)\n",
    "#plt.savefig(\"ConfusionMatrix_Test.png\", dpi = 300)\n",
    "plt.xlabel(\"Predicted classes \", fontsize = 16)   \n",
    "plt.ylabel(\"Actual classes \", fontsize = 16)   \n",
    "fig.tight_layout()        \n",
    "\n",
    "plt.show()"
   ]
  },
  {
   "cell_type": "code",
   "execution_count": null,
   "metadata": {
    "collapsed": true
   },
   "outputs": [],
   "source": [
    "plt.figure()\n",
    "lw = 2\n",
    "plt.plot(fpr[2], tpr[2], color='darkorange',\n",
    "         lw=lw, label='ROC curve (area = %0.2f)' % roc_auc[2])\n",
    "plt.plot([0, 1], [0, 1], color='navy', lw=lw, linestyle='--')\n",
    "plt.xlim([0.0, 1.0])\n",
    "plt.ylim([0.0, 1.05])\n",
    "plt.xlabel('False Positive Rate')\n",
    "plt.ylabel('True Positive Rate')\n",
    "plt.title('Receiver operating characteristic example')\n",
    "plt.legend(loc=\"lower right\")\n",
    "plt.show()"
   ]
  },
  {
   "cell_type": "code",
   "execution_count": null,
   "metadata": {
    "collapsed": true
   },
   "outputs": [],
   "source": [
    "y.shape"
   ]
  }
 ],
 "metadata": {
  "kernelspec": {
   "display_name": "Python 3",
   "language": "python",
   "name": "python3"
  },
  "language_info": {
   "codemirror_mode": {
    "name": "ipython",
    "version": 3
   },
   "file_extension": ".py",
   "mimetype": "text/x-python",
   "name": "python",
   "nbconvert_exporter": "python",
   "pygments_lexer": "ipython3",
   "version": "3.6.0"
  }
 },
 "nbformat": 4,
 "nbformat_minor": 2
}
