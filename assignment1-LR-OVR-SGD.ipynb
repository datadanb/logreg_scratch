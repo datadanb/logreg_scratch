{
 "cells": [
  {
   "cell_type": "markdown",
   "metadata": {},
   "source": [
    "## Utility functions and general imports"
   ]
  },
  {
   "cell_type": "code",
   "execution_count": 1,
   "metadata": {
    "collapsed": false
   },
   "outputs": [],
   "source": [
    "import h5py\n",
    "import numpy as np\n",
    "import scipy as scpy\n",
    "from PIL import Image\n",
    "from matplotlib import pyplot as plt\n",
    "from matplotlib.pyplot import imshow\n",
    "from scipy import optimize as opt\n",
    "from sklearn import decomposition\n",
    "from sklearn import preprocessing\n",
    "from sklearn.preprocessing import MinMaxScaler, StandardScaler, Normalizer\n",
    "from scipy import sparse\n",
    "\n",
    "from sklearn.linear_model import SGDClassifier\n",
    "\n",
    "from IPython.core.interactiveshell import InteractiveShell\n",
    "InteractiveShell.ast_node_interactivity = \"all\"\n",
    "\n",
    "%matplotlib inline\n"
   ]
  },
  {
   "cell_type": "code",
   "execution_count": 20,
   "metadata": {
    "collapsed": false
   },
   "outputs": [],
   "source": [
    "# Defining utility functions for reading images and data in\n",
    "def show_image(array, label):\n",
    "    im = Image.fromarray(array)\n",
    "    print(\"Item of label={}\".format(label))\n",
    "    return(imshow(im))\n",
    "\n",
    "def construct_conf_mat(actual_y, predicted_prob, pos_class_label, thresh=0.5):\n",
    "    fp, tp, fn, tn = 0, 0, 0, 0\n",
    "    for i in range(actual_y.shape[0]):\n",
    "        if predicted_prob[i] >= thresh:\n",
    "            if actual_y[i] == pos_class_label:\n",
    "                tp += 1\n",
    "            else:\n",
    "                fp += 1\n",
    "        else:\n",
    "            if actual_y[i] == pos_class_label:\n",
    "                fn += 1\n",
    "            else:\n",
    "                tn += 1\n",
    "    return fp, tp, fn, tn\n",
    "\n",
    "\n",
    "def create_multiclass_c(X_mat, n, max_iter, y_mat):\n",
    "\n",
    "    theta = np.zeros((k,n))\n",
    "    \n",
    "    for i in range(k):\n",
    "        label_class = i if i else 0\n",
    "        print('Class {} being optimised'.format(i))\n",
    "        #cost0 = cost(theta, X, (y==label_class.flatten()))\n",
    "        #cost[i] = cost(theta[i], X,y)\n",
    "        #print('Cost for Class {}:'.format(cost[i]))\n",
    "        theta[i] = opt.fmin_cg(f = costFunctionReg, x0 = theta[i].flatten(),  fprime = gradRegularization, args = (X_mat,(y_mat == label_class).flatten(), lmbda), maxiter = max_iter, disp = True)            \n",
    "\n",
    "    return (theta)    \n",
    "    \n",
    "    \n",
    "def compress_project(percent, data_to_compress):\n",
    "\n",
    "# Find the principal components that explain 99% of the data\n",
    "    pca = decomposition.PCA(percent)\n",
    "\n",
    "    #Run PCA on normalized image data\n",
    "    lower_dim_data = pca.fit_transform(data_to_compress)    \n",
    "    print('Shape of lower dimension image {}:'.format(lower_dim_data.shape))\n",
    "\n",
    "    #Project lower dimension data onto original features\n",
    "    approximation = pca.inverse_transform(lower_dim_data)\n",
    "    #approximation = pca.inverse_transform(lower_dim_data)\n",
    "        \n",
    "    #Reshape approximation and X_norm to 784*28*28 to display images\n",
    "    approximation_reshaped = approximation.reshape(-1,784)\n",
    "    print('Shape of reconstructed image {}:'.format(approximation_reshaped.shape))   \n",
    "    print( 'Is Original close to Resized? ', np.allclose(data_to_compress, approximation) )\n",
    "    \n",
    "    return (approximation, lower_dim_data) \n",
    "\n",
    "\n",
    "def shape_matrix_process(split_percent):\n",
    "    \n",
    "            \n",
    "        # Read the source files in\n",
    "        data, label, test_data, test_label = read_data_in(desktop_or_laptop='d')\n",
    "\n",
    "        # Creating a fair split of training and validation data for the \n",
    "        # training model to be trained on\n",
    "        indices = range(data.shape[0])\n",
    "        \n",
    "        training_records = int(split_percent * data.shape[0])        \n",
    "        \n",
    "        # Get the records that are part of the indices declared above\n",
    "        train_data = data[:training_records]\n",
    "        validate_data = data[training_records:]        \n",
    "        \n",
    "        # Get the labels that are part of the indices declared above\n",
    "        label_train = label[:training_records]\n",
    "        label_validate = label[training_records:]        \n",
    "\n",
    "        X_train = train_data.reshape(-1, 784)\n",
    "        X_validate = validate_data.reshape(-1, 784)\n",
    "        \n",
    "        y_train = np.ravel(label_train)\n",
    "        y_validate = np.ravel(label_validate)    \n",
    "\n",
    "                \n",
    "        ##########################################################################  \n",
    "        # MINMAXSCALER IS THE ONLY SCALER FOUND TO RELIABLY RESULT IN CONVERGENCE*\n",
    "        # HOWEVER NEEDS FURTHER TESTING =========================================#\n",
    "        ##########################################################################\n",
    "\n",
    "        #X_train = preprocessing.scale(X_train)\n",
    "        min_max_scaler = MinMaxScaler()\n",
    "        X_train = min_max_scaler.fit_transform(X_train,y_train)\n",
    "        X_train = X_train.astype('float32')\n",
    "        X_validate = min_max_scaler.transform(X_validate)\n",
    "        X_validate = X_validate.astype('float32')\n",
    "        \n",
    "        #scaler = preprocessing.StandardScaler().fit(X_train)\n",
    "        #X_train = scaler.transform(X_train)\n",
    "        #X_validate = scaler.transform(X_validate)\n",
    "        \n",
    "        #transformer = Normalizer().fit(X_train)\n",
    "        #transformer.transform(X_train)\n",
    "        \n",
    "        \n",
    "        print('Total number of records in X train: {}'.format(X_train.shape[0]))\n",
    "        print('Total number of records in y train: {}'.format(y_train.shape[0]))\n",
    "        print('Total number of features in X train: {}'.format(X_train.shape[1]))\n",
    "\n",
    "        print('Total number of records in X train (valdation set): {}'.format(X_validate.shape[0]))\n",
    "        print('Total number of features in X train (validation set): {}'.format(X_validate.shape[1]))\n",
    "        \n",
    "       \n",
    "        ########################\n",
    "        # Now to transform test#\n",
    "        ########################\n",
    "        \n",
    "        X_test = test_data[:2000]        \n",
    "        X_test = test_data.reshape(-1,784)\n",
    "        y_test = test_label [:2000]       \n",
    "        X_test = X_test.astype('float32')\n",
    "        #y_test = np.ravel(y_test)\n",
    "        \n",
    "        \n",
    "        ##########################################################################  \n",
    "        # MINMAXSCALER IS THE ONLY SCALER FOUND TO RELIABLY RESULT IN CONVERGENCE*\n",
    "        # HOWEVER NEEDS FURTHER TESTING =========================================#\n",
    "        ##########################################################################\n",
    "\n",
    "        \n",
    "        #min_max_scaler = preprocessing.MinMaxScaler()    \n",
    "        #X_test = min_max_scaler.fit_transform(X_test)\n",
    "        X_test = min_max_scaler.transform(X_test)\n",
    "                                          \n",
    "        print('Total number of records in X test: {}'.format(X_test.shape[0]))\n",
    "        print('Total number of features in X test: {}'.format(X_test.shape[1]))\n",
    "        \n",
    "        return(X_train,X_validate,X_test,y_train,y_validate,y_test)\n",
    "    \n",
    "    \n",
    "# Import the files in from python h5 format\n",
    "\n",
    "\n",
    "def read_data_in(desktop_or_laptop='d'):\n",
    "    \n",
    "    if desktop_or_laptop == 'l':\n",
    "\n",
    "        ## Dan's Mac folder location - NEEDS CHANGING\n",
    "        with h5py.File('../Project1/data/images_training.h5','r') as H:\n",
    "            data = np.copy(H['data'])\n",
    "        with h5py.File('../Project1/data/labels_training.h5','r') as H:\n",
    "            label = np.copy(H['label'])\n",
    "\n",
    "        with h5py.File('../Project1/data/images_testing.h5','r') as H:\n",
    "            data_test = np.copy(H['data'])\n",
    "        with h5py.File('../Project1/data/labels_testing_2000.h5','r') as H:\n",
    "            label_test = np.copy(H['label'])    \n",
    "\n",
    "\n",
    "    else:\n",
    "        ## Dan's desktop folder location - NEEDS CHANGING\n",
    "        with h5py.File('../../Input/images_training.h5','r') as H:\n",
    "            data = np.copy(H['data'])\n",
    "        with h5py.File('../../Input/labels_training.h5','r') as H:\n",
    "            label = np.copy(H['label'])\n",
    "        with h5py.File('../../Input/images_testing.h5','r') as H:\n",
    "            data_test = np.copy(H['data'])\n",
    "\n",
    "        with h5py.File('../../Input/labels_testing_2000.h5','r') as H:\n",
    "            label_test = np.copy(H['label'])     \n",
    "    \n",
    "    return(data, label, data_test, label_test)\n",
    "\n",
    "def add_intercept(X_mat,y_mat):\n",
    "    m = len(y_mat)\n",
    "    ones = np.ones((m,1))\n",
    "    \n",
    "    X = np.concatenate((ones,X_mat),axis=1)\n",
    "    m,n = X.shape\n",
    "    print(X.shape)\n",
    "    return(X,n)\n",
    "\n",
    "# Is the matrix symmetric?\n",
    "def is_symmetric(X, tolerance = 1e-9):\n",
    "    return(np.allclose(X,X.T, atol=tolerance))\n",
    "\n",
    "\n",
    "def is_sparse(X,m,n):    \n",
    "\n",
    "    return    "
   ]
  },
  {
   "cell_type": "code",
   "execution_count": null,
   "metadata": {
    "collapsed": true
   },
   "outputs": [],
   "source": [
    "class LogisticRegression:\n",
    "    def __init__(self,  max_iter, intercept, k, lmbda ):\n",
    "        #self.lr = lr\n",
    "        self.max_iter = max_iter\n",
    "        self.intercept = intercept\n",
    "        self.k = k\n",
    "        self.lmbda = lmbda\n",
    "        print (\"Logistic Regression model initialised with Max iterations = {} K (classes) = {}  lmbda (Regularisation parameter) ={}\".format(self.max_iter,self.k, self.lmbda))\n",
    "    \n",
    "    def add_intercept(self, X_mat,y_mat):\n",
    "        m = len(y_mat)\n",
    "        ones = np.ones((m,1))\n",
    "\n",
    "        X_mat = np.concatenate((ones,X_mat),axis=1)\n",
    "        m_shape,n_shape = X_mat.shape\n",
    "        #print(\"n_shape: {}\".format(n_shape))\n",
    "        #print(\"X_mat.shape: {}\".format(X_mat.shape))\n",
    "        \n",
    "        return(X_mat,n_shape)\n",
    "    \n",
    "    # Defining the sigmoid function required in LR\n",
    "    def __sigmoid(self, z):\n",
    "        return 1/(1+np.exp(-z))\n",
    "    \n",
    "    def __cost(self, theta, X_arr, y_arr):\n",
    "        predictions = self.__sigmoid(X_arr @ theta)\n",
    "        predictions[predictions == 1] = 0.999 # log(1)=0 causes error in division\n",
    "        error = -y_arr * np.log(predictions) - (1 - y_arr) * np.log(1 - predictions);\n",
    "        return sum(error) / len(y_arr);\n",
    "    \n",
    "    # Vectorised cost function\n",
    "    def __costFunctionReg(self,theta, X, y, lmbda):\n",
    "        m = len(y)\n",
    "        temp1 = np.multiply(y, np.log(self.__sigmoid(np.dot(X, theta))))\n",
    "        temp2 = np.multiply(1-y, np.log(1-self.__sigmoid(np.dot(X, theta))))  \n",
    "        #print(np.sum(temp1 + temp2) / (-m) + np.sum(theta[1:]**2) * lmbda / (2*m))\n",
    "        return np.sum(temp1 + temp2) / (-m) + np.sum(theta[1:]**2) * lmbda / (2*m)\n",
    "    \n",
    "    \n",
    "    def fit(self, X_mat,max_iter, y_mat,n):\n",
    "                        \n",
    "        theta = np.zeros((k,n)) #inital parameters\n",
    "        cost_values = {}\n",
    "        \n",
    "        print(\"############################################\")\n",
    "        print(\"### Gradient Descent Optimisation beginning\")\n",
    "        print(\"############################################\")\n",
    "        for i in range(k):\n",
    "            label_class = i if i else 0\n",
    "            print('Class {} being optimised'.format(i))\n",
    "            #cost0 = cost(theta, X, (y==label_class.flatten()))\n",
    "            #cost[i] = cost(theta[i], X,y)\n",
    "            #print('Cost for Class {}:'.format(cost[i]))            \n",
    "            theta[i] = opt.fmin_cg(f = self.__costFunctionReg, x0 = theta[i].flatten(),  fprime = self.__gradient_reg_vectorised, args = (X_mat,(y_mat == label_class).flatten(), self.lmbda),maxiter= max_iter, disp = True)            \n",
    "            #cost = {i,}\n",
    "            #theta[i] = opt.fmin_cg(f = costFunctionReg, x0 = theta[i].flatten(),  fprime = gradRegularization, args = (X_mat,(y == label_class).flatten(), lmbda), maxiter = 200, disp = True)    \n",
    "            \n",
    "        print(\"###########################################\")\n",
    "        print(\"### Gradient Descent Optimisation finished\")\n",
    "        print(\"###########################################\")\n",
    "        return (theta)    \n",
    "    \n",
    "      \n",
    "    \n",
    "    # Vectorised gradient\n",
    "    def __gradient_reg_vectorised(self, theta, X_arr, y_arr, lmbda):\n",
    "        m = len(y_arr)\n",
    "        temp = self.__sigmoid(np.dot(X_arr, theta)) - y_arr\n",
    "        temp = np.dot(temp.T, X_arr).T / m + theta * lmbda / m\n",
    "        temp[0] = temp[0] - theta[0] * lmbda / m\n",
    "        return temp\n",
    "    \n",
    "    # Vectorised cost function\n",
    "    def __cost_func_vectorised(self,theta, X_arr, y_arr, lmbda):\n",
    "        m = len(y_arr)\n",
    "        temp_weight1 = np.multiply(y_arr, np.log(self.__sigmoid(np.dot(X_arr, theta))))\n",
    "        temp_weight2 = np.multiply(1-y_arr, np.log(1-self.__sigmoid(np.dot(X_arr, theta))))\n",
    "        return np.sum(temp_weight1 + temp_weight2) / (-m) + np.sum(theta[1:]**2) * self.lmbda / (2*m)\n",
    "    \n",
    "    \n",
    "    def predict(self,X,y,theta):    \n",
    "        preds = []\n",
    "        preds = np.argmax(X @ theta.T, axis = 1)\n",
    "        preds = [e if e else 0 for e in preds]\n",
    "        average_pred = np.mean(preds == y.flatten()) * 100        \n",
    "        return(preds, average_pred)\n",
    "        #return(average_pred)\n",
    "    \n",
    "    def predict_prob(self,X):\n",
    "        return (self.__sigmoid(np.dot(X),self.theta.T))\n",
    "    \n",
    "        "
   ]
  },
  {
   "cell_type": "markdown",
   "metadata": {},
   "source": [
    "## For reference: https://github.com/zalandoresearch/fashion-mnist"
   ]
  },
  {
   "cell_type": "markdown",
   "metadata": {},
   "source": [
    "\n",
    "\n",
    "| Label | Description   |\n",
    "|------|------|\n",
    "|   0  | T-shirt/top|\n",
    "|   1  | Trouser|\n",
    "|   2  | Pullover|\n",
    "|   3  | Dress|\n",
    "|   4  | Coat|\n",
    "|   5  | Sandal|\n",
    "|   6  | Shirt|\n",
    "|   7  | Sneaker|\n",
    "|   8  | Bag|\n",
    "|   9  | Ankle boot|"
   ]
  },
  {
   "cell_type": "code",
   "execution_count": null,
   "metadata": {
    "collapsed": false
   },
   "outputs": [],
   "source": [
    "data, label, data_test, label_test = read_data_in(desktop_or_laptop='d')\n",
    "\n",
    "\n",
    "#train_data = data[:30000]\n",
    "\n",
    "#X_train = train_data.reshape(-1, 784)\n",
    "\n",
    "\n",
    "#X_train,X_validate,X_test,y_train,y_validate,y_test = shape_matrix_process(split_percent=0.8)\n",
    "#X_test = X_test[:2000]\n",
    "\n",
    "#def is_symmetric(X, tolerance = 1e-9):\n",
    "#    return(np.allclose(X,X.T, atol=tolerance))\n",
    "\n",
    "\n",
    "#sparse.csc_matrix.getnnz(X_train[0])\n",
    "\n",
    "\n",
    "# Read the source files in\n",
    "data, label, test_data, test_label = read_data_in(desktop_or_laptop='d')\n",
    "\n",
    "data.\n",
    "\n",
    "#is_symmetric(X_train[1])\n",
    "\n",
    "\n",
    "#= data.reshape[-1,784]\n",
    "#is_sparse(X_train,X_train.shape[0],X_train.shape[1])\n",
    "#X.shape\n",
    "#scpy.sparse.isspmatrix(train_data)\n",
    "\n",
    "#X_train.shape\n",
    "#data.reshape[-1,784]\n",
    "#data[3]"
   ]
  },
  {
   "cell_type": "code",
   "execution_count": null,
   "metadata": {
    "collapsed": true
   },
   "outputs": [],
   "source": [
    "i = 10\n",
    "#show_image(data[i],label[i])\n",
    "\n",
    "#print('Total training data shape : ', data.shape, label.shape)\n",
    "#data_train = data_train / 255\n",
    "\n",
    "\n",
    "_, axarr = plt.subplots(10,10,figsize=(10,10))\n",
    "\n",
    "for i in range(10):\n",
    "    for j in range(10):\n",
    "       axarr[i,j].imshow(data[np.random.randint(data.shape[0])].\\\n",
    "reshape((28,28), order = 'F'))          \n",
    "       axarr[i,j].axis('off')     \n"
   ]
  },
  {
   "cell_type": "markdown",
   "metadata": {},
   "source": [
    "## Basic Exploratory Analysis"
   ]
  },
  {
   "cell_type": "code",
   "execution_count": null,
   "metadata": {
    "collapsed": false
   },
   "outputs": [],
   "source": [
    "# How many unique classes are we dealing with? Do we need to perform any sampling for class imbalance?\n",
    "classes = np.unique(label)\n",
    "nclasses = len(classes)\n",
    "test_classes = np.unique(label_test)\n",
    "test_nclasses = len(test_classes)\n",
    "\n",
    "\n",
    "print('Total number of classes in Train: ', nclasses)\n",
    "print('Total number of classes in Test : ', test_nclasses)\n",
    "print('Classes to classify in Train are : ', classes)\n",
    "print('Classes to classify in Test are : ', test_classes)\n",
    "\n",
    "\n",
    "unique, counts = np.unique(label, return_counts=True)\n",
    "print('Distribution of labels against total population in Train:')\n",
    "dict(zip(unique,counts))\n",
    "\n",
    "unique_test, count_test = np.unique(label_test, return_counts=True)\n",
    "print('Distribution of labels against total population in Test:')\n",
    "dict(zip(unique_test,count_test))\n",
    "\n",
    "\n"
   ]
  },
  {
   "cell_type": "markdown",
   "metadata": {},
   "source": [
    "## Setting up terms, intercept and gradients for LogisticRegression - OVR"
   ]
  },
  {
   "cell_type": "code",
   "execution_count": 40,
   "metadata": {
    "collapsed": false
   },
   "outputs": [
    {
     "name": "stderr",
     "output_type": "stream",
     "text": [
      "C:\\Users\\New\\AppData\\Roaming\\Python\\Python36\\site-packages\\sklearn\\utils\\validation.py:595: DataConversionWarning: Data with input dtype uint8 was converted to float64 by MinMaxScaler.\n",
      "  warnings.warn(msg, DataConversionWarning)\n"
     ]
    },
    {
     "name": "stdout",
     "output_type": "stream",
     "text": [
      "Total number of records in X train: 24000\n",
      "Total number of records in y train: 24000\n",
      "Total number of features in X train: 784\n",
      "Total number of records in X train (valdation set): 6000\n",
      "Total number of features in X train (validation set): 784\n",
      "Total number of records in X test: 5000\n",
      "Total number of features in X test: 784\n",
      "Wall time: 30.8 s\n"
     ]
    }
   ],
   "source": [
    "%%time\n",
    "\n",
    "loop_count = 1\n",
    "\n",
    "prediction_average_test = []\n",
    "\n",
    "for i in range(loop_count):\n",
    "\n",
    "    # Declare variables for instantiation of the LogisticRegression Class\n",
    "    lmbda = 1\n",
    "    k = 10\n",
    "    intercept = True\n",
    "    max_iter = 500\n",
    "\n",
    "    #n = []\n",
    "    # THIS IS A HACK, NOT SURE WHY TEST DATA ISN'T BEING READ IN PROPERLY CURRENTLY\n",
    "    \n",
    "\n",
    "    #########################################################################################\n",
    "    # Once data is read in from file data, we split it for training, validation and testing #\n",
    "    # standardise, & re-shape it process                                                    #\n",
    "    #########################################################################################\n",
    "        \n",
    "    X_train,X_validate,X_test,y_train,y_validate,y_test = shape_matrix_process(split_percent=0.8)\n",
    "    X_test = X_test[:2000]\n",
    "    \n",
    "    #data_test = data_test[:2000]\n",
    "\n",
    "    ############################################\n",
    "    # Instantiate our logistic Regression model#\n",
    "    ############################################\n",
    "    sgd_model = SGDClassifier(alpha=0.001,loss=\"log\", penalty=\"l2\",shuffle=True, tol = 1e-5, random_state=42)\n",
    "\n",
    "    # Carry out principal component analysis and project back with 99% of variance\n",
    "    #X_train, X_reduced  = compress_project(percent=.99,data_to_compress=X_train)\n",
    "\n",
    "    # Add the intercept value\n",
    "    #X_train,n = model.add_intercept(X_train,y_train)\n",
    "    \n",
    "    #############################################################################################\n",
    "    # Using conjugate gradient, we attempt to carry out optimisation to find theta and therefore#\n",
    "    # Using theta and the data features to predict each class   #################################\n",
    "    #############################################################################################\n",
    "    sgd_model.fit(X_train, y_train)    \n",
    "\n",
    "    #######################################################################################\n",
    "    # Carry out the predictions based on the trained model and then carry out predictions #\n",
    "    # on the unseen test data                                                             #\n",
    "    #######################################################################################\n",
    "    #X_test,n = model.add_intercept(X_test,y_test)\n",
    "\n",
    "    \n",
    "    #Wall time: 25.7 s - Hinge, l2\n",
    "    "
   ]
  },
  {
   "cell_type": "code",
   "execution_count": 41,
   "metadata": {
    "collapsed": false
   },
   "outputs": [
    {
     "data": {
      "text/plain": [
       "SGDClassifier(alpha=0.001, average=False, class_weight=None,\n",
       "       early_stopping=False, epsilon=0.1, eta0=0.0, fit_intercept=True,\n",
       "       l1_ratio=0.15, learning_rate='optimal', loss='log', max_iter=None,\n",
       "       n_iter=None, n_iter_no_change=5, n_jobs=None, penalty='l2',\n",
       "       power_t=0.5, random_state=42, shuffle=True, tol=1e-05,\n",
       "       validation_fraction=0.1, verbose=0, warm_start=False)"
      ]
     },
     "execution_count": 41,
     "metadata": {},
     "output_type": "execute_result"
    }
   ],
   "source": [
    "sgd_model"
   ]
  },
  {
   "cell_type": "code",
   "execution_count": 42,
   "metadata": {
    "collapsed": false
   },
   "outputs": [
    {
     "data": {
      "text/plain": [
       "0.8456666666666667"
      ]
     },
     "execution_count": 42,
     "metadata": {},
     "output_type": "execute_result"
    },
    {
     "data": {
      "text/plain": [
       "0.833"
      ]
     },
     "execution_count": 42,
     "metadata": {},
     "output_type": "execute_result"
    }
   ],
   "source": [
    "from sklearn.metrics import accuracy_score\n",
    "preds = sgd_model.predict(X_validate)\n",
    "\n",
    "acc = accuracy_score(y_validate, preds)\n",
    "acc\n",
    "\n",
    "preds_test = sgd_model.predict(X_test)\n",
    "\n",
    "acc_test = accuracy_score(y_test, preds_test)\n",
    "acc_test"
   ]
  },
  {
   "cell_type": "code",
   "execution_count": null,
   "metadata": {
    "collapsed": false
   },
   "outputs": [],
   "source": [
    "#prediction_average = []\n",
    "preds, prediction_average = model.predict(X=X_train,y=y_train,theta=theta)\n",
    "prediction_average\n",
    "\n",
    "#X_test,n = model.add_intercept(X_test,y_test)\n",
    "prediction_average_test = []\n",
    "#prediction_average_test = model.predict(X_test,y_test,theta=theta)\n",
    "preds_test,prediction_average_test   = model.predict(X_test,y_test,theta=theta)\n",
    "prediction_average_test\n",
    "#preds_test\n",
    "\n",
    "\n",
    "#87.68771929824561\n",
    "# 84.0\n",
    "\n",
    "87.51578947368421\n",
    "84.0"
   ]
  },
  {
   "cell_type": "markdown",
   "metadata": {},
   "source": [
    "## Finding the optimal weights and parameters for the 10 classes"
   ]
  },
  {
   "cell_type": "code",
   "execution_count": null,
   "metadata": {
    "collapsed": true
   },
   "outputs": [],
   "source": [
    "lmbda = 5\n",
    "k = 10\n",
    "max_iter = 275\n",
    "\n",
    "\n",
    "#X=data_test\n",
    "#y=label_test\n",
    "#train_or_test='test'\n",
    "\n",
    "#X_test,y_test = shape_matrix_process(X_test, y_test, train_or_test, split_percent)\n",
    "#X_test, n_train = add_intercept(X_test,y_test)\n",
    "\n",
    "theta = np.zeros((k,n)) #inital parameters\n",
    "\n",
    "# Time execution of the gradient descent and cost calculations\n",
    "%timeit -n 1 -r 1 theta = create_multiclass_c(X_mat=X_train, max_iter=max_iter, y_mat=y_train,n=n)\n",
    "#%timeit -n 1 -r 1 theta = create_multiclass_c(X_validate,n, max_iter, y_validate)"
   ]
  },
  {
   "cell_type": "code",
   "execution_count": null,
   "metadata": {
    "collapsed": false
   },
   "outputs": [],
   "source": [
    "X_test,n = add_intercept(X_test,y_test)\n",
    "\n",
    "pred = []\n",
    "pred = np.argmax(X_test @ theta.T, axis = 1)\n",
    "pred = [e if e else 0 for e in pred]\n",
    "np.mean(pred == y_train.flatten()) * 100\n",
    "\n",
    "#79.74166666666666"
   ]
  },
  {
   "cell_type": "code",
   "execution_count": null,
   "metadata": {
    "collapsed": false
   },
   "outputs": [],
   "source": [
    "\n",
    "preds = np.argmax(X_train @ theta.T, axis = 1)\n",
    "preds = [e if e else 0 for e in pred]\n",
    "np.mean(preds ==y_train.flatten()) * 100\n",
    "#79.74166666666666"
   ]
  },
  {
   "cell_type": "code",
   "execution_count": null,
   "metadata": {
    "collapsed": false
   },
   "outputs": [],
   "source": [
    "preds_test[0:10]\n",
    "y_test"
   ]
  },
  {
   "cell_type": "code",
   "execution_count": null,
   "metadata": {
    "collapsed": true
   },
   "outputs": [],
   "source": [
    "pred_validate = []\n",
    "pred_validate = np.argmax(X_validate @ theta.T, axis = 1)\n",
    "pred = [e if e else 0 for e in pred]\n",
    "pred_accuracies = pred_validate == y_validate.flatten()\n",
    "np.mean(pred_validate ==y_validate.flatten()) * 100\n",
    "#79.74166666666666"
   ]
  },
  {
   "cell_type": "code",
   "execution_count": null,
   "metadata": {
    "collapsed": false
   },
   "outputs": [],
   "source": [
    "pred_train = []\n",
    "pred_train = np.argmax(X_train @ theta.T, axis = 1)\n",
    "pred = [e if e else 0 for e in pred_train]\n",
    "np.mean(pred_train == y_train.flatten()) * 100\n",
    "\n",
    "pred_test = []\n",
    "pred_test = np.argmax(X_test @ theta.T, axis = 1)\n",
    "pred = [e if e else 0 for e in pred_test]\n",
    "np.mean(pred_test == y_test.flatten()) * 100\n",
    "\n",
    "#79.74166666666666"
   ]
  },
  {
   "cell_type": "code",
   "execution_count": null,
   "metadata": {
    "collapsed": true
   },
   "outputs": [],
   "source": [
    "print(pred_test)\n",
    "print(y_test)"
   ]
  },
  {
   "cell_type": "code",
   "execution_count": null,
   "metadata": {
    "collapsed": true
   },
   "outputs": [],
   "source": [
    "label_test"
   ]
  },
  {
   "cell_type": "code",
   "execution_count": 13,
   "metadata": {
    "collapsed": false
   },
   "outputs": [
    {
     "data": {
      "text/plain": [
       "<matplotlib.figure.Figure at 0x299c3b00390>"
      ]
     },
     "execution_count": 13,
     "metadata": {},
     "output_type": "execute_result"
    },
    {
     "data": {
      "text/plain": [
       "<matplotlib.axes._subplots.AxesSubplot at 0x299c3f430f0>"
      ]
     },
     "execution_count": 13,
     "metadata": {},
     "output_type": "execute_result"
    },
    {
     "data": {
      "text/plain": [
       "<matplotlib.text.Text at 0x299c3f5a908>"
      ]
     },
     "execution_count": 13,
     "metadata": {},
     "output_type": "execute_result"
    },
    {
     "data": {
      "text/plain": [
       "<matplotlib.text.Text at 0x299c3f54828>"
      ]
     },
     "execution_count": 13,
     "metadata": {},
     "output_type": "execute_result"
    },
    {
     "data": {
      "text/plain": [
       "<matplotlib.text.Text at 0x299c3f8ccc0>"
      ]
     },
     "execution_count": 13,
     "metadata": {},
     "output_type": "execute_result"
    },
    {
     "data": {
      "image/png": "[encoded data removed]",
      "text/plain": [
       "<matplotlib.figure.Figure at 0x299c3b00390>"
      ]
     },
     "metadata": {},
     "output_type": "display_data"
    }
   ],
   "source": [
    "import matplotlib.pyplot as plt\n",
    "import seaborn as sns\n",
    "from sklearn import metrics\n",
    "\n",
    "cm = metrics.confusion_matrix(y_test, preds_test)\n",
    "#cm = metrics.confusion_matrix(y_train, preds)\n",
    "\n",
    "plt.figure(figsize=(9,9))\n",
    "sns.heatmap(cm, annot=True, fmt=\".3f\", linewidths=.5, square = True, cmap = 'Blues_r');\n",
    "plt.ylabel('Actual label');\n",
    "plt.xlabel('Predicted label');\n",
    "all_sample_title = 'Accuracy Score: {0}'.format(acc_test)\n",
    "plt.title(all_sample_title, size = 15);\n",
    "\n"
   ]
  },
  {
   "cell_type": "code",
   "execution_count": 15,
   "metadata": {
    "collapsed": false
   },
   "outputs": [
    {
     "data": {
      "text/plain": [
       "0.8166426271992595"
      ]
     },
     "execution_count": 15,
     "metadata": {},
     "output_type": "execute_result"
    },
    {
     "data": {
      "text/plain": [
       "0.8155002382517814"
      ]
     },
     "execution_count": 15,
     "metadata": {},
     "output_type": "execute_result"
    }
   ],
   "source": [
    "recall = np.diag(cm) / np.sum(cm, axis = 1)\n",
    "precision = np.diag(cm) / np.sum(cm, axis = 0)\n",
    "np.mean(recall)\n",
    "np.mean(precision)"
   ]
  },
  {
   "cell_type": "code",
   "execution_count": null,
   "metadata": {
    "collapsed": true
   },
   "outputs": [],
   "source": [
    "plt.figure()\n",
    "lw = 2\n",
    "plt.plot(fpr[2], tpr[2], color='darkorange',\n",
    "         lw=lw, label='ROC curve (area = %0.2f)' % roc_auc[2])\n",
    "plt.plot([0, 1], [0, 1], color='navy', lw=lw, linestyle='--')\n",
    "plt.xlim([0.0, 1.0])\n",
    "plt.ylim([0.0, 1.05])\n",
    "plt.xlabel('False Positive Rate')\n",
    "plt.ylabel('True Positive Rate')\n",
    "plt.title('Receiver operating characteristic example')\n",
    "plt.legend(loc=\"lower right\")\n",
    "plt.show()"
   ]
  },
  {
   "cell_type": "markdown",
   "metadata": {},
   "source": [
    "## Using Gaussian Naive Bayes as alternate classifier"
   ]
  },
  {
   "cell_type": "code",
   "execution_count": null,
   "metadata": {
    "collapsed": true
   },
   "outputs": [],
   "source": [
    "y.shape"
   ]
  },
  {
   "cell_type": "code",
   "execution_count": null,
   "metadata": {
    "collapsed": true
   },
   "outputs": [],
   "source": [
    "from sklearn.naive_bayes import GaussianNB\n",
    "\n",
    "\n",
    "# Trying with train\n",
    "gnb = GaussianNB().fit(X,y)\n",
    "gnb_pred = gnb.predict(X_validate)\n",
    "\n",
    "gnb_accuracy = gnb.score(X_validate,y_validate)\n",
    "print(gnb_accuracy)\n",
    "\n"
   ]
  }
 ],
 "metadata": {
  "kernelspec": {
   "display_name": "Python 3",
   "language": "python",
   "name": "python3"
  },
  "language_info": {
   "codemirror_mode": {
    "name": "ipython",
    "version": 3
   },
   "file_extension": ".py",
   "mimetype": "text/x-python",
   "name": "python",
   "nbconvert_exporter": "python",
   "pygments_lexer": "ipython3",
   "version": "3.6.0"
  }
 },
 "nbformat": 4,
 "nbformat_minor": 2
}
